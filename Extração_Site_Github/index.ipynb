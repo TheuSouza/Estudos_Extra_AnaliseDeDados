{
 "cells": [
  {
   "cell_type": "code",
   "execution_count": 2,
   "metadata": {},
   "outputs": [
    {
     "name": "stderr",
     "output_type": "stream",
     "text": [
      "C:\\Users\\PC\\AppData\\Local\\Temp\\ipykernel_1968\\471634170.py:1: DeprecationWarning: \n",
      "Pyarrow will become a required dependency of pandas in the next major release of pandas (pandas 3.0),\n",
      "(to allow more performant data types, such as the Arrow string type, and better interoperability with other libraries)\n",
      "but was not found to be installed on your system.\n",
      "If this would cause problems for you,\n",
      "please provide us feedback at https://github.com/pandas-dev/pandas/issues/54466\n",
      "        \n",
      "  import pandas as pd\n"
     ]
    }
   ],
   "source": [
    "import pandas as pd\n",
    "\n",
    "URL = 'https://raw.githubusercontent.com/gurezende/Studying/master/Datasets/Cars.csv'"
   ]
  },
  {
   "cell_type": "code",
   "execution_count": 3,
   "metadata": {},
   "outputs": [],
   "source": [
    "#Leitura do CSV na URL <-\n",
    "df = pd.read_csv(URL)"
   ]
  },
  {
   "cell_type": "code",
   "execution_count": 4,
   "metadata": {},
   "outputs": [
    {
     "data": {
      "text/html": [
       "<div>\n",
       "<style scoped>\n",
       "    .dataframe tbody tr th:only-of-type {\n",
       "        vertical-align: middle;\n",
       "    }\n",
       "\n",
       "    .dataframe tbody tr th {\n",
       "        vertical-align: top;\n",
       "    }\n",
       "\n",
       "    .dataframe thead th {\n",
       "        text-align: right;\n",
       "    }\n",
       "</style>\n",
       "<table border=\"1\" class=\"dataframe\">\n",
       "  <thead>\n",
       "    <tr style=\"text-align: right;\">\n",
       "      <th></th>\n",
       "      <th>Manufacturer</th>\n",
       "      <th>Model</th>\n",
       "      <th>Vehicle_type</th>\n",
       "      <th>Price_in_thousands</th>\n",
       "      <th>Engine_size</th>\n",
       "      <th>Horsepower</th>\n",
       "      <th>Wheelbase</th>\n",
       "      <th>Width</th>\n",
       "      <th>Length</th>\n",
       "      <th>Curb_weight</th>\n",
       "      <th>Fuel_capacity</th>\n",
       "      <th>Fuel_efficiency</th>\n",
       "      <th>Latest_Launch</th>\n",
       "      <th>Power_perf_factor</th>\n",
       "      <th>mileage</th>\n",
       "    </tr>\n",
       "  </thead>\n",
       "  <tbody>\n",
       "    <tr>\n",
       "      <th>0</th>\n",
       "      <td>Acura</td>\n",
       "      <td>Integra</td>\n",
       "      <td>Passenger</td>\n",
       "      <td>21.50</td>\n",
       "      <td>1.8</td>\n",
       "      <td>140</td>\n",
       "      <td>101.2</td>\n",
       "      <td>67.3</td>\n",
       "      <td>172.4</td>\n",
       "      <td>2.639</td>\n",
       "      <td>13.2</td>\n",
       "      <td>28.0</td>\n",
       "      <td>2/2/2012</td>\n",
       "      <td>58.280150</td>\n",
       "      <td>46434</td>\n",
       "    </tr>\n",
       "    <tr>\n",
       "      <th>1</th>\n",
       "      <td>Acura</td>\n",
       "      <td>TL</td>\n",
       "      <td>Passenger</td>\n",
       "      <td>28.40</td>\n",
       "      <td>3.2</td>\n",
       "      <td>225</td>\n",
       "      <td>108.1</td>\n",
       "      <td>70.3</td>\n",
       "      <td>192.9</td>\n",
       "      <td>3.517</td>\n",
       "      <td>17.2</td>\n",
       "      <td>25.0</td>\n",
       "      <td>6/3/2011</td>\n",
       "      <td>91.370778</td>\n",
       "      <td>28892</td>\n",
       "    </tr>\n",
       "    <tr>\n",
       "      <th>2</th>\n",
       "      <td>Acura</td>\n",
       "      <td>CL</td>\n",
       "      <td>Passenger</td>\n",
       "      <td>NaN</td>\n",
       "      <td>3.2</td>\n",
       "      <td>225</td>\n",
       "      <td>106.9</td>\n",
       "      <td>70.6</td>\n",
       "      <td>192.0</td>\n",
       "      <td>3.470</td>\n",
       "      <td>17.2</td>\n",
       "      <td>26.0</td>\n",
       "      <td>1/4/2012</td>\n",
       "      <td>NaN</td>\n",
       "      <td>28892</td>\n",
       "    </tr>\n",
       "    <tr>\n",
       "      <th>3</th>\n",
       "      <td>Acura</td>\n",
       "      <td>RL</td>\n",
       "      <td>Passenger</td>\n",
       "      <td>42.00</td>\n",
       "      <td>3.5</td>\n",
       "      <td>210</td>\n",
       "      <td>114.6</td>\n",
       "      <td>71.4</td>\n",
       "      <td>196.6</td>\n",
       "      <td>3.850</td>\n",
       "      <td>18.0</td>\n",
       "      <td>22.0</td>\n",
       "      <td>3/10/2011</td>\n",
       "      <td>91.389779</td>\n",
       "      <td>30956</td>\n",
       "    </tr>\n",
       "    <tr>\n",
       "      <th>4</th>\n",
       "      <td>Audi</td>\n",
       "      <td>A4</td>\n",
       "      <td>Passenger</td>\n",
       "      <td>23.99</td>\n",
       "      <td>1.8</td>\n",
       "      <td>150</td>\n",
       "      <td>102.6</td>\n",
       "      <td>68.2</td>\n",
       "      <td>178.0</td>\n",
       "      <td>2.998</td>\n",
       "      <td>16.4</td>\n",
       "      <td>27.0</td>\n",
       "      <td>10/8/2011</td>\n",
       "      <td>62.777639</td>\n",
       "      <td>43338</td>\n",
       "    </tr>\n",
       "  </tbody>\n",
       "</table>\n",
       "</div>"
      ],
      "text/plain": [
       "  Manufacturer    Model Vehicle_type  Price_in_thousands  Engine_size  \\\n",
       "0        Acura  Integra    Passenger               21.50          1.8   \n",
       "1        Acura       TL    Passenger               28.40          3.2   \n",
       "2        Acura       CL    Passenger                 NaN          3.2   \n",
       "3        Acura       RL    Passenger               42.00          3.5   \n",
       "4         Audi       A4    Passenger               23.99          1.8   \n",
       "\n",
       "   Horsepower  Wheelbase  Width  Length  Curb_weight  Fuel_capacity  \\\n",
       "0         140      101.2   67.3   172.4        2.639           13.2   \n",
       "1         225      108.1   70.3   192.9        3.517           17.2   \n",
       "2         225      106.9   70.6   192.0        3.470           17.2   \n",
       "3         210      114.6   71.4   196.6        3.850           18.0   \n",
       "4         150      102.6   68.2   178.0        2.998           16.4   \n",
       "\n",
       "   Fuel_efficiency Latest_Launch  Power_perf_factor  mileage  \n",
       "0             28.0      2/2/2012          58.280150    46434  \n",
       "1             25.0      6/3/2011          91.370778    28892  \n",
       "2             26.0      1/4/2012                NaN    28892  \n",
       "3             22.0     3/10/2011          91.389779    30956  \n",
       "4             27.0     10/8/2011          62.777639    43338  "
      ]
     },
     "execution_count": 4,
     "metadata": {},
     "output_type": "execute_result"
    }
   ],
   "source": [
    "#Mostrar as 5 primeiras linhas ou quantas eu pedir dentro de ()\n",
    "df.head()"
   ]
  },
  {
   "cell_type": "code",
   "execution_count": 5,
   "metadata": {},
   "outputs": [
    {
     "data": {
      "text/html": [
       "<div>\n",
       "<style scoped>\n",
       "    .dataframe tbody tr th:only-of-type {\n",
       "        vertical-align: middle;\n",
       "    }\n",
       "\n",
       "    .dataframe tbody tr th {\n",
       "        vertical-align: top;\n",
       "    }\n",
       "\n",
       "    .dataframe thead th {\n",
       "        text-align: right;\n",
       "    }\n",
       "</style>\n",
       "<table border=\"1\" class=\"dataframe\">\n",
       "  <thead>\n",
       "    <tr style=\"text-align: right;\">\n",
       "      <th></th>\n",
       "      <th>Manufacturer</th>\n",
       "      <th>Model</th>\n",
       "      <th>Vehicle_type</th>\n",
       "      <th>Price_in_thousands</th>\n",
       "      <th>Engine_size</th>\n",
       "      <th>Horsepower</th>\n",
       "      <th>Wheelbase</th>\n",
       "      <th>Width</th>\n",
       "      <th>Length</th>\n",
       "      <th>Curb_weight</th>\n",
       "      <th>Fuel_capacity</th>\n",
       "      <th>Fuel_efficiency</th>\n",
       "      <th>Latest_Launch</th>\n",
       "      <th>Power_perf_factor</th>\n",
       "      <th>mileage</th>\n",
       "    </tr>\n",
       "  </thead>\n",
       "  <tbody>\n",
       "    <tr>\n",
       "      <th>151</th>\n",
       "      <td>Volvo</td>\n",
       "      <td>V40</td>\n",
       "      <td>Passenger</td>\n",
       "      <td>24.4</td>\n",
       "      <td>1.9</td>\n",
       "      <td>160</td>\n",
       "      <td>100.5</td>\n",
       "      <td>67.6</td>\n",
       "      <td>176.6</td>\n",
       "      <td>3.042</td>\n",
       "      <td>15.8</td>\n",
       "      <td>25.0</td>\n",
       "      <td>9/21/2011</td>\n",
       "      <td>66.498812</td>\n",
       "      <td>40630</td>\n",
       "    </tr>\n",
       "    <tr>\n",
       "      <th>152</th>\n",
       "      <td>Volvo</td>\n",
       "      <td>S70</td>\n",
       "      <td>Passenger</td>\n",
       "      <td>27.5</td>\n",
       "      <td>2.4</td>\n",
       "      <td>168</td>\n",
       "      <td>104.9</td>\n",
       "      <td>69.3</td>\n",
       "      <td>185.9</td>\n",
       "      <td>3.208</td>\n",
       "      <td>17.9</td>\n",
       "      <td>25.0</td>\n",
       "      <td>11/24/2012</td>\n",
       "      <td>70.654495</td>\n",
       "      <td>38695</td>\n",
       "    </tr>\n",
       "    <tr>\n",
       "      <th>153</th>\n",
       "      <td>Volvo</td>\n",
       "      <td>V70</td>\n",
       "      <td>Passenger</td>\n",
       "      <td>28.8</td>\n",
       "      <td>2.4</td>\n",
       "      <td>168</td>\n",
       "      <td>104.9</td>\n",
       "      <td>69.3</td>\n",
       "      <td>186.2</td>\n",
       "      <td>3.259</td>\n",
       "      <td>17.9</td>\n",
       "      <td>25.0</td>\n",
       "      <td>6/25/2011</td>\n",
       "      <td>71.155978</td>\n",
       "      <td>38695</td>\n",
       "    </tr>\n",
       "    <tr>\n",
       "      <th>154</th>\n",
       "      <td>Volvo</td>\n",
       "      <td>C70</td>\n",
       "      <td>Passenger</td>\n",
       "      <td>45.5</td>\n",
       "      <td>2.3</td>\n",
       "      <td>236</td>\n",
       "      <td>104.9</td>\n",
       "      <td>71.5</td>\n",
       "      <td>185.7</td>\n",
       "      <td>3.601</td>\n",
       "      <td>18.5</td>\n",
       "      <td>23.0</td>\n",
       "      <td>4/26/2011</td>\n",
       "      <td>101.623357</td>\n",
       "      <td>27545</td>\n",
       "    </tr>\n",
       "    <tr>\n",
       "      <th>155</th>\n",
       "      <td>Volvo</td>\n",
       "      <td>S80</td>\n",
       "      <td>Passenger</td>\n",
       "      <td>36.0</td>\n",
       "      <td>2.9</td>\n",
       "      <td>201</td>\n",
       "      <td>109.9</td>\n",
       "      <td>72.1</td>\n",
       "      <td>189.8</td>\n",
       "      <td>3.600</td>\n",
       "      <td>21.1</td>\n",
       "      <td>24.0</td>\n",
       "      <td>11/14/2011</td>\n",
       "      <td>85.735655</td>\n",
       "      <td>32342</td>\n",
       "    </tr>\n",
       "  </tbody>\n",
       "</table>\n",
       "</div>"
      ],
      "text/plain": [
       "    Manufacturer Model Vehicle_type  Price_in_thousands  Engine_size  \\\n",
       "151        Volvo   V40    Passenger                24.4          1.9   \n",
       "152        Volvo   S70    Passenger                27.5          2.4   \n",
       "153        Volvo   V70    Passenger                28.8          2.4   \n",
       "154        Volvo   C70    Passenger                45.5          2.3   \n",
       "155        Volvo   S80    Passenger                36.0          2.9   \n",
       "\n",
       "     Horsepower  Wheelbase  Width  Length  Curb_weight  Fuel_capacity  \\\n",
       "151         160      100.5   67.6   176.6        3.042           15.8   \n",
       "152         168      104.9   69.3   185.9        3.208           17.9   \n",
       "153         168      104.9   69.3   186.2        3.259           17.9   \n",
       "154         236      104.9   71.5   185.7        3.601           18.5   \n",
       "155         201      109.9   72.1   189.8        3.600           21.1   \n",
       "\n",
       "     Fuel_efficiency Latest_Launch  Power_perf_factor  mileage  \n",
       "151             25.0     9/21/2011          66.498812    40630  \n",
       "152             25.0    11/24/2012          70.654495    38695  \n",
       "153             25.0     6/25/2011          71.155978    38695  \n",
       "154             23.0     4/26/2011         101.623357    27545  \n",
       "155             24.0    11/14/2011          85.735655    32342  "
      ]
     },
     "execution_count": 5,
     "metadata": {},
     "output_type": "execute_result"
    }
   ],
   "source": [
    "#Mostrar as 5 ultimas linhas ou quantas eu pedir dentro de ()\n",
    "df.tail()"
   ]
  },
  {
   "cell_type": "code",
   "execution_count": 6,
   "metadata": {},
   "outputs": [],
   "source": [
    "#Carregar o arquivo CSV na URL <- selecionando as colunas...\n",
    "df2 = pd.read_csv(URL, usecols=['Manufacturer', 'Model', 'Engine_size', 'Horsepower'])"
   ]
  },
  {
   "cell_type": "code",
   "execution_count": 7,
   "metadata": {},
   "outputs": [],
   "source": [
    "#Carregar o arquivo CSV na URL <- selecionando a quantidade de linhas...\n",
    "df3 = pd.read_csv(URL, nrows=3)"
   ]
  },
  {
   "cell_type": "code",
   "execution_count": 8,
   "metadata": {},
   "outputs": [],
   "source": [
    "#Carregar o arquivo CSV na URL <- Passando NaN para algum valor expecífico...\n",
    "df4 = pd.read_csv(URL, na_values='Passenger')"
   ]
  },
  {
   "cell_type": "code",
   "execution_count": 9,
   "metadata": {},
   "outputs": [
    {
     "data": {
      "text/plain": [
       "(156, 15)"
      ]
     },
     "execution_count": 9,
     "metadata": {},
     "output_type": "execute_result"
    }
   ],
   "source": [
    "#Ver o formato do dataframe...\n",
    "df.shape"
   ]
  },
  {
   "cell_type": "code",
   "execution_count": 10,
   "metadata": {},
   "outputs": [
    {
     "data": {
      "text/plain": [
       "Index(['Manufacturer', 'Model', 'Vehicle_type', 'Price_in_thousands',\n",
       "       'Engine_size', 'Horsepower', 'Wheelbase', 'Width', 'Length',\n",
       "       'Curb_weight', 'Fuel_capacity', 'Fuel_efficiency', 'Latest_Launch',\n",
       "       'Power_perf_factor', 'mileage'],\n",
       "      dtype='object')"
      ]
     },
     "execution_count": 10,
     "metadata": {},
     "output_type": "execute_result"
    }
   ],
   "source": [
    "#ver o nome das colunas do dataframe...\n",
    "df.columns"
   ]
  },
  {
   "cell_type": "code",
   "execution_count": 11,
   "metadata": {},
   "outputs": [],
   "source": [
    "#Renomear as colunas do dataframe...\n",
    "df.columns = ['fabricante', 'modelo', 'tipo_veiculo', 'preco',\n",
    "        'tamanho_motor', 'potencia', 'entre_eixos', 'largura', 'comprimento',\n",
    "        'peso', 'cap_combustivel', 'eficiencia', 'ultima_versao',\n",
    "        'power_perf_factor', 'milhagem']"
   ]
  },
  {
   "cell_type": "code",
   "execution_count": 12,
   "metadata": {},
   "outputs": [
    {
     "data": {
      "text/plain": [
       "fabricante            object\n",
       "modelo                object\n",
       "tipo_veiculo          object\n",
       "preco                float64\n",
       "tamanho_motor        float64\n",
       "potencia               int64\n",
       "entre_eixos          float64\n",
       "largura              float64\n",
       "comprimento          float64\n",
       "peso                 float64\n",
       "cap_combustivel      float64\n",
       "eficiencia           float64\n",
       "ultima_versao         object\n",
       "power_perf_factor    float64\n",
       "milhagem               int64\n",
       "dtype: object"
      ]
     },
     "execution_count": 12,
     "metadata": {},
     "output_type": "execute_result"
    }
   ],
   "source": [
    "#verificar os tipos de dados...\n",
    "df.dtypes"
   ]
  },
  {
   "cell_type": "code",
   "execution_count": 13,
   "metadata": {},
   "outputs": [],
   "source": [
    "#forçar a troca do tipo de dados...\n",
    "df = df.astype({'comprimento':'object', 'preco':'float'})"
   ]
  },
  {
   "cell_type": "code",
   "execution_count": 14,
   "metadata": {},
   "outputs": [
    {
     "name": "stdout",
     "output_type": "stream",
     "text": [
      "<class 'pandas.core.frame.DataFrame'>\n",
      "RangeIndex: 156 entries, 0 to 155\n",
      "Data columns (total 15 columns):\n",
      " #   Column             Non-Null Count  Dtype  \n",
      "---  ------             --------------  -----  \n",
      " 0   fabricante         156 non-null    object \n",
      " 1   modelo             156 non-null    object \n",
      " 2   tipo_veiculo       156 non-null    object \n",
      " 3   preco              155 non-null    float64\n",
      " 4   tamanho_motor      156 non-null    float64\n",
      " 5   potencia           156 non-null    int64  \n",
      " 6   entre_eixos        156 non-null    float64\n",
      " 7   largura            156 non-null    float64\n",
      " 8   comprimento        156 non-null    object \n",
      " 9   peso               155 non-null    float64\n",
      " 10  cap_combustivel    156 non-null    float64\n",
      " 11  eficiencia         154 non-null    float64\n",
      " 12  ultima_versao      156 non-null    object \n",
      " 13  power_perf_factor  155 non-null    float64\n",
      " 14  milhagem           156 non-null    int64  \n",
      "dtypes: float64(8), int64(2), object(5)\n",
      "memory usage: 18.4+ KB\n"
     ]
    }
   ],
   "source": [
    "df.info()"
   ]
  },
  {
   "cell_type": "code",
   "execution_count": 15,
   "metadata": {},
   "outputs": [
    {
     "data": {
      "text/html": [
       "<div>\n",
       "<style scoped>\n",
       "    .dataframe tbody tr th:only-of-type {\n",
       "        vertical-align: middle;\n",
       "    }\n",
       "\n",
       "    .dataframe tbody tr th {\n",
       "        vertical-align: top;\n",
       "    }\n",
       "\n",
       "    .dataframe thead th {\n",
       "        text-align: right;\n",
       "    }\n",
       "</style>\n",
       "<table border=\"1\" class=\"dataframe\">\n",
       "  <thead>\n",
       "    <tr style=\"text-align: right;\">\n",
       "      <th></th>\n",
       "      <th>fabricante</th>\n",
       "      <th>modelo</th>\n",
       "      <th>tipo_veiculo</th>\n",
       "      <th>preco</th>\n",
       "      <th>tamanho_motor</th>\n",
       "      <th>potencia</th>\n",
       "      <th>entre_eixos</th>\n",
       "      <th>largura</th>\n",
       "      <th>comprimento</th>\n",
       "      <th>peso</th>\n",
       "      <th>cap_combustivel</th>\n",
       "      <th>eficiencia</th>\n",
       "      <th>ultima_versao</th>\n",
       "      <th>power_perf_factor</th>\n",
       "      <th>milhagem</th>\n",
       "    </tr>\n",
       "  </thead>\n",
       "  <tbody>\n",
       "    <tr>\n",
       "      <th>0</th>\n",
       "      <td>Acura</td>\n",
       "      <td>Integra</td>\n",
       "      <td>Passenger</td>\n",
       "      <td>21.50</td>\n",
       "      <td>1.8</td>\n",
       "      <td>140</td>\n",
       "      <td>101.2</td>\n",
       "      <td>67.3</td>\n",
       "      <td>172.4</td>\n",
       "      <td>2.639</td>\n",
       "      <td>13.2</td>\n",
       "      <td>28.0</td>\n",
       "      <td>2/2/2012</td>\n",
       "      <td>58.280150</td>\n",
       "      <td>46434</td>\n",
       "    </tr>\n",
       "    <tr>\n",
       "      <th>1</th>\n",
       "      <td>Acura</td>\n",
       "      <td>TL</td>\n",
       "      <td>Passenger</td>\n",
       "      <td>28.40</td>\n",
       "      <td>3.2</td>\n",
       "      <td>225</td>\n",
       "      <td>108.1</td>\n",
       "      <td>70.3</td>\n",
       "      <td>192.9</td>\n",
       "      <td>3.517</td>\n",
       "      <td>17.2</td>\n",
       "      <td>25.0</td>\n",
       "      <td>6/3/2011</td>\n",
       "      <td>91.370778</td>\n",
       "      <td>28892</td>\n",
       "    </tr>\n",
       "    <tr>\n",
       "      <th>2</th>\n",
       "      <td>Acura</td>\n",
       "      <td>CL</td>\n",
       "      <td>Passenger</td>\n",
       "      <td>NaN</td>\n",
       "      <td>3.2</td>\n",
       "      <td>225</td>\n",
       "      <td>106.9</td>\n",
       "      <td>70.6</td>\n",
       "      <td>192.0</td>\n",
       "      <td>3.470</td>\n",
       "      <td>17.2</td>\n",
       "      <td>26.0</td>\n",
       "      <td>1/4/2012</td>\n",
       "      <td>NaN</td>\n",
       "      <td>28892</td>\n",
       "    </tr>\n",
       "    <tr>\n",
       "      <th>3</th>\n",
       "      <td>Acura</td>\n",
       "      <td>RL</td>\n",
       "      <td>Passenger</td>\n",
       "      <td>42.00</td>\n",
       "      <td>3.5</td>\n",
       "      <td>210</td>\n",
       "      <td>114.6</td>\n",
       "      <td>71.4</td>\n",
       "      <td>196.6</td>\n",
       "      <td>3.850</td>\n",
       "      <td>18.0</td>\n",
       "      <td>22.0</td>\n",
       "      <td>3/10/2011</td>\n",
       "      <td>91.389779</td>\n",
       "      <td>30956</td>\n",
       "    </tr>\n",
       "    <tr>\n",
       "      <th>4</th>\n",
       "      <td>Audi</td>\n",
       "      <td>A4</td>\n",
       "      <td>Passenger</td>\n",
       "      <td>23.99</td>\n",
       "      <td>1.8</td>\n",
       "      <td>150</td>\n",
       "      <td>102.6</td>\n",
       "      <td>68.2</td>\n",
       "      <td>178.0</td>\n",
       "      <td>2.998</td>\n",
       "      <td>16.4</td>\n",
       "      <td>27.0</td>\n",
       "      <td>10/8/2011</td>\n",
       "      <td>62.777639</td>\n",
       "      <td>43338</td>\n",
       "    </tr>\n",
       "  </tbody>\n",
       "</table>\n",
       "</div>"
      ],
      "text/plain": [
       "  fabricante   modelo tipo_veiculo  preco  tamanho_motor  potencia  \\\n",
       "0      Acura  Integra    Passenger  21.50            1.8       140   \n",
       "1      Acura       TL    Passenger  28.40            3.2       225   \n",
       "2      Acura       CL    Passenger    NaN            3.2       225   \n",
       "3      Acura       RL    Passenger  42.00            3.5       210   \n",
       "4       Audi       A4    Passenger  23.99            1.8       150   \n",
       "\n",
       "   entre_eixos  largura comprimento   peso  cap_combustivel  eficiencia  \\\n",
       "0        101.2     67.3       172.4  2.639             13.2        28.0   \n",
       "1        108.1     70.3       192.9  3.517             17.2        25.0   \n",
       "2        106.9     70.6       192.0  3.470             17.2        26.0   \n",
       "3        114.6     71.4       196.6  3.850             18.0        22.0   \n",
       "4        102.6     68.2       178.0  2.998             16.4        27.0   \n",
       "\n",
       "  ultima_versao  power_perf_factor  milhagem  \n",
       "0      2/2/2012          58.280150     46434  \n",
       "1      6/3/2011          91.370778     28892  \n",
       "2      1/4/2012                NaN     28892  \n",
       "3     3/10/2011          91.389779     30956  \n",
       "4     10/8/2011          62.777639     43338  "
      ]
     },
     "execution_count": 15,
     "metadata": {},
     "output_type": "execute_result"
    }
   ],
   "source": [
    "#fatiamento de dataframe\n",
    "df[0:5]"
   ]
  },
  {
   "cell_type": "code",
   "execution_count": 16,
   "metadata": {},
   "outputs": [
    {
     "data": {
      "text/html": [
       "<div>\n",
       "<style scoped>\n",
       "    .dataframe tbody tr th:only-of-type {\n",
       "        vertical-align: middle;\n",
       "    }\n",
       "\n",
       "    .dataframe tbody tr th {\n",
       "        vertical-align: top;\n",
       "    }\n",
       "\n",
       "    .dataframe thead th {\n",
       "        text-align: right;\n",
       "    }\n",
       "</style>\n",
       "<table border=\"1\" class=\"dataframe\">\n",
       "  <thead>\n",
       "    <tr style=\"text-align: right;\">\n",
       "      <th></th>\n",
       "      <th>fabricante</th>\n",
       "      <th>modelo</th>\n",
       "      <th>tamanho_motor</th>\n",
       "      <th>potencia</th>\n",
       "    </tr>\n",
       "  </thead>\n",
       "  <tbody>\n",
       "    <tr>\n",
       "      <th>0</th>\n",
       "      <td>Acura</td>\n",
       "      <td>Integra</td>\n",
       "      <td>1.8</td>\n",
       "      <td>140</td>\n",
       "    </tr>\n",
       "    <tr>\n",
       "      <th>1</th>\n",
       "      <td>Acura</td>\n",
       "      <td>TL</td>\n",
       "      <td>3.2</td>\n",
       "      <td>225</td>\n",
       "    </tr>\n",
       "    <tr>\n",
       "      <th>2</th>\n",
       "      <td>Acura</td>\n",
       "      <td>CL</td>\n",
       "      <td>3.2</td>\n",
       "      <td>225</td>\n",
       "    </tr>\n",
       "    <tr>\n",
       "      <th>3</th>\n",
       "      <td>Acura</td>\n",
       "      <td>RL</td>\n",
       "      <td>3.5</td>\n",
       "      <td>210</td>\n",
       "    </tr>\n",
       "    <tr>\n",
       "      <th>4</th>\n",
       "      <td>Audi</td>\n",
       "      <td>A4</td>\n",
       "      <td>1.8</td>\n",
       "      <td>150</td>\n",
       "    </tr>\n",
       "  </tbody>\n",
       "</table>\n",
       "</div>"
      ],
      "text/plain": [
       "  fabricante   modelo  tamanho_motor  potencia\n",
       "0      Acura  Integra            1.8       140\n",
       "1      Acura       TL            3.2       225\n",
       "2      Acura       CL            3.2       225\n",
       "3      Acura       RL            3.5       210\n",
       "4       Audi       A4            1.8       150"
      ]
     },
     "execution_count": 16,
     "metadata": {},
     "output_type": "execute_result"
    }
   ],
   "source": [
    "colunas = ['fabricante', 'modelo', 'tamanho_motor', 'potencia']\n",
    "df[colunas][0:5]"
   ]
  },
  {
   "cell_type": "code",
   "execution_count": 17,
   "metadata": {},
   "outputs": [
    {
     "data": {
      "text/html": [
       "<div>\n",
       "<style scoped>\n",
       "    .dataframe tbody tr th:only-of-type {\n",
       "        vertical-align: middle;\n",
       "    }\n",
       "\n",
       "    .dataframe tbody tr th {\n",
       "        vertical-align: top;\n",
       "    }\n",
       "\n",
       "    .dataframe thead th {\n",
       "        text-align: right;\n",
       "    }\n",
       "</style>\n",
       "<table border=\"1\" class=\"dataframe\">\n",
       "  <thead>\n",
       "    <tr style=\"text-align: right;\">\n",
       "      <th></th>\n",
       "      <th>fabricante</th>\n",
       "      <th>modelo</th>\n",
       "      <th>tamanho_motor</th>\n",
       "      <th>potencia</th>\n",
       "    </tr>\n",
       "  </thead>\n",
       "  <tbody>\n",
       "    <tr>\n",
       "      <th>0</th>\n",
       "      <td>Acura</td>\n",
       "      <td>Integra</td>\n",
       "      <td>1.8</td>\n",
       "      <td>140</td>\n",
       "    </tr>\n",
       "    <tr>\n",
       "      <th>1</th>\n",
       "      <td>Acura</td>\n",
       "      <td>TL</td>\n",
       "      <td>3.2</td>\n",
       "      <td>225</td>\n",
       "    </tr>\n",
       "    <tr>\n",
       "      <th>2</th>\n",
       "      <td>Acura</td>\n",
       "      <td>CL</td>\n",
       "      <td>3.2</td>\n",
       "      <td>225</td>\n",
       "    </tr>\n",
       "  </tbody>\n",
       "</table>\n",
       "</div>"
      ],
      "text/plain": [
       "  fabricante   modelo  tamanho_motor  potencia\n",
       "0      Acura  Integra            1.8       140\n",
       "1      Acura       TL            3.2       225\n",
       "2      Acura       CL            3.2       225"
      ]
     },
     "execution_count": 17,
     "metadata": {},
     "output_type": "execute_result"
    }
   ],
   "source": [
    "df[colunas].head(3)"
   ]
  },
  {
   "cell_type": "code",
   "execution_count": 18,
   "metadata": {},
   "outputs": [
    {
     "data": {
      "text/html": [
       "<div>\n",
       "<style scoped>\n",
       "    .dataframe tbody tr th:only-of-type {\n",
       "        vertical-align: middle;\n",
       "    }\n",
       "\n",
       "    .dataframe tbody tr th {\n",
       "        vertical-align: top;\n",
       "    }\n",
       "\n",
       "    .dataframe thead th {\n",
       "        text-align: right;\n",
       "    }\n",
       "</style>\n",
       "<table border=\"1\" class=\"dataframe\">\n",
       "  <thead>\n",
       "    <tr style=\"text-align: right;\">\n",
       "      <th></th>\n",
       "      <th>fabricante</th>\n",
       "      <th>modelo</th>\n",
       "      <th>tamanho_motor</th>\n",
       "      <th>potencia</th>\n",
       "    </tr>\n",
       "  </thead>\n",
       "  <tbody>\n",
       "    <tr>\n",
       "      <th>10</th>\n",
       "      <td>Buick</td>\n",
       "      <td>Century</td>\n",
       "      <td>3.1</td>\n",
       "      <td>175</td>\n",
       "    </tr>\n",
       "    <tr>\n",
       "      <th>11</th>\n",
       "      <td>Buick</td>\n",
       "      <td>Regal</td>\n",
       "      <td>3.8</td>\n",
       "      <td>240</td>\n",
       "    </tr>\n",
       "    <tr>\n",
       "      <th>12</th>\n",
       "      <td>Buick</td>\n",
       "      <td>Park Avenue</td>\n",
       "      <td>3.8</td>\n",
       "      <td>205</td>\n",
       "    </tr>\n",
       "    <tr>\n",
       "      <th>13</th>\n",
       "      <td>Buick</td>\n",
       "      <td>LeSabre</td>\n",
       "      <td>3.8</td>\n",
       "      <td>205</td>\n",
       "    </tr>\n",
       "    <tr>\n",
       "      <th>14</th>\n",
       "      <td>Cadillac</td>\n",
       "      <td>DeVille</td>\n",
       "      <td>4.6</td>\n",
       "      <td>275</td>\n",
       "    </tr>\n",
       "    <tr>\n",
       "      <th>15</th>\n",
       "      <td>Cadillac</td>\n",
       "      <td>Seville</td>\n",
       "      <td>4.6</td>\n",
       "      <td>275</td>\n",
       "    </tr>\n",
       "    <tr>\n",
       "      <th>16</th>\n",
       "      <td>Cadillac</td>\n",
       "      <td>Eldorado</td>\n",
       "      <td>4.6</td>\n",
       "      <td>275</td>\n",
       "    </tr>\n",
       "    <tr>\n",
       "      <th>17</th>\n",
       "      <td>Cadillac</td>\n",
       "      <td>Catera</td>\n",
       "      <td>3.0</td>\n",
       "      <td>200</td>\n",
       "    </tr>\n",
       "    <tr>\n",
       "      <th>18</th>\n",
       "      <td>Cadillac</td>\n",
       "      <td>Escalade</td>\n",
       "      <td>5.7</td>\n",
       "      <td>255</td>\n",
       "    </tr>\n",
       "    <tr>\n",
       "      <th>19</th>\n",
       "      <td>Chevrolet</td>\n",
       "      <td>Cavalier</td>\n",
       "      <td>2.2</td>\n",
       "      <td>115</td>\n",
       "    </tr>\n",
       "    <tr>\n",
       "      <th>20</th>\n",
       "      <td>Chevrolet</td>\n",
       "      <td>Malibu</td>\n",
       "      <td>3.1</td>\n",
       "      <td>170</td>\n",
       "    </tr>\n",
       "  </tbody>\n",
       "</table>\n",
       "</div>"
      ],
      "text/plain": [
       "   fabricante       modelo  tamanho_motor  potencia\n",
       "10      Buick      Century            3.1       175\n",
       "11      Buick        Regal            3.8       240\n",
       "12      Buick  Park Avenue            3.8       205\n",
       "13      Buick      LeSabre            3.8       205\n",
       "14   Cadillac      DeVille            4.6       275\n",
       "15   Cadillac      Seville            4.6       275\n",
       "16   Cadillac     Eldorado            4.6       275\n",
       "17   Cadillac       Catera            3.0       200\n",
       "18   Cadillac     Escalade            5.7       255\n",
       "19  Chevrolet     Cavalier            2.2       115\n",
       "20  Chevrolet       Malibu            3.1       170"
      ]
     },
     "execution_count": 18,
     "metadata": {},
     "output_type": "execute_result"
    }
   ],
   "source": [
    "#Filtrando colunas e linhas usando o loc...\n",
    "df.loc[10:20, colunas]"
   ]
  },
  {
   "cell_type": "code",
   "execution_count": 19,
   "metadata": {},
   "outputs": [
    {
     "data": {
      "text/html": [
       "<div>\n",
       "<style scoped>\n",
       "    .dataframe tbody tr th:only-of-type {\n",
       "        vertical-align: middle;\n",
       "    }\n",
       "\n",
       "    .dataframe tbody tr th {\n",
       "        vertical-align: top;\n",
       "    }\n",
       "\n",
       "    .dataframe thead th {\n",
       "        text-align: right;\n",
       "    }\n",
       "</style>\n",
       "<table border=\"1\" class=\"dataframe\">\n",
       "  <thead>\n",
       "    <tr style=\"text-align: right;\">\n",
       "      <th></th>\n",
       "      <th>fabricante</th>\n",
       "      <th>modelo</th>\n",
       "    </tr>\n",
       "  </thead>\n",
       "  <tbody>\n",
       "    <tr>\n",
       "      <th>10</th>\n",
       "      <td>Buick</td>\n",
       "      <td>Century</td>\n",
       "    </tr>\n",
       "    <tr>\n",
       "      <th>11</th>\n",
       "      <td>Buick</td>\n",
       "      <td>Regal</td>\n",
       "    </tr>\n",
       "    <tr>\n",
       "      <th>12</th>\n",
       "      <td>Buick</td>\n",
       "      <td>Park Avenue</td>\n",
       "    </tr>\n",
       "    <tr>\n",
       "      <th>13</th>\n",
       "      <td>Buick</td>\n",
       "      <td>LeSabre</td>\n",
       "    </tr>\n",
       "    <tr>\n",
       "      <th>14</th>\n",
       "      <td>Cadillac</td>\n",
       "      <td>DeVille</td>\n",
       "    </tr>\n",
       "  </tbody>\n",
       "</table>\n",
       "</div>"
      ],
      "text/plain": [
       "   fabricante       modelo\n",
       "10      Buick      Century\n",
       "11      Buick        Regal\n",
       "12      Buick  Park Avenue\n",
       "13      Buick      LeSabre\n",
       "14   Cadillac      DeVille"
      ]
     },
     "execution_count": 19,
     "metadata": {},
     "output_type": "execute_result"
    }
   ],
   "source": [
    "#filtrando linhas e colunas por index...\n",
    "df.iloc[10:15, 0:2].head()"
   ]
  },
  {
   "cell_type": "code",
   "execution_count": 20,
   "metadata": {},
   "outputs": [
    {
     "data": {
      "text/plain": [
       "0       True\n",
       "1       True\n",
       "2      False\n",
       "3       True\n",
       "4       True\n",
       "       ...  \n",
       "151     True\n",
       "152     True\n",
       "153     True\n",
       "154     True\n",
       "155     True\n",
       "Name: preco, Length: 156, dtype: bool"
      ]
     },
     "execution_count": 20,
     "metadata": {},
     "output_type": "execute_result"
    }
   ],
   "source": [
    "#Retornar valor bool onde preço for maior que 20...\n",
    "df.preco > 20"
   ]
  },
  {
   "cell_type": "code",
   "execution_count": 21,
   "metadata": {},
   "outputs": [
    {
     "data": {
      "text/html": [
       "<div>\n",
       "<style scoped>\n",
       "    .dataframe tbody tr th:only-of-type {\n",
       "        vertical-align: middle;\n",
       "    }\n",
       "\n",
       "    .dataframe tbody tr th {\n",
       "        vertical-align: top;\n",
       "    }\n",
       "\n",
       "    .dataframe thead th {\n",
       "        text-align: right;\n",
       "    }\n",
       "</style>\n",
       "<table border=\"1\" class=\"dataframe\">\n",
       "  <thead>\n",
       "    <tr style=\"text-align: right;\">\n",
       "      <th></th>\n",
       "      <th>fabricante</th>\n",
       "      <th>modelo</th>\n",
       "      <th>tipo_veiculo</th>\n",
       "      <th>preco</th>\n",
       "      <th>tamanho_motor</th>\n",
       "      <th>potencia</th>\n",
       "      <th>entre_eixos</th>\n",
       "      <th>largura</th>\n",
       "      <th>comprimento</th>\n",
       "      <th>peso</th>\n",
       "      <th>cap_combustivel</th>\n",
       "      <th>eficiencia</th>\n",
       "      <th>ultima_versao</th>\n",
       "      <th>power_perf_factor</th>\n",
       "      <th>milhagem</th>\n",
       "    </tr>\n",
       "  </thead>\n",
       "  <tbody>\n",
       "    <tr>\n",
       "      <th>0</th>\n",
       "      <td>Acura</td>\n",
       "      <td>Integra</td>\n",
       "      <td>Passenger</td>\n",
       "      <td>21.50</td>\n",
       "      <td>1.8</td>\n",
       "      <td>140</td>\n",
       "      <td>101.2</td>\n",
       "      <td>67.3</td>\n",
       "      <td>172.4</td>\n",
       "      <td>2.639</td>\n",
       "      <td>13.2</td>\n",
       "      <td>28.0</td>\n",
       "      <td>2/2/2012</td>\n",
       "      <td>58.280150</td>\n",
       "      <td>46434</td>\n",
       "    </tr>\n",
       "    <tr>\n",
       "      <th>1</th>\n",
       "      <td>Acura</td>\n",
       "      <td>TL</td>\n",
       "      <td>Passenger</td>\n",
       "      <td>28.40</td>\n",
       "      <td>3.2</td>\n",
       "      <td>225</td>\n",
       "      <td>108.1</td>\n",
       "      <td>70.3</td>\n",
       "      <td>192.9</td>\n",
       "      <td>3.517</td>\n",
       "      <td>17.2</td>\n",
       "      <td>25.0</td>\n",
       "      <td>6/3/2011</td>\n",
       "      <td>91.370778</td>\n",
       "      <td>28892</td>\n",
       "    </tr>\n",
       "    <tr>\n",
       "      <th>3</th>\n",
       "      <td>Acura</td>\n",
       "      <td>RL</td>\n",
       "      <td>Passenger</td>\n",
       "      <td>42.00</td>\n",
       "      <td>3.5</td>\n",
       "      <td>210</td>\n",
       "      <td>114.6</td>\n",
       "      <td>71.4</td>\n",
       "      <td>196.6</td>\n",
       "      <td>3.850</td>\n",
       "      <td>18.0</td>\n",
       "      <td>22.0</td>\n",
       "      <td>3/10/2011</td>\n",
       "      <td>91.389779</td>\n",
       "      <td>30956</td>\n",
       "    </tr>\n",
       "    <tr>\n",
       "      <th>4</th>\n",
       "      <td>Audi</td>\n",
       "      <td>A4</td>\n",
       "      <td>Passenger</td>\n",
       "      <td>23.99</td>\n",
       "      <td>1.8</td>\n",
       "      <td>150</td>\n",
       "      <td>102.6</td>\n",
       "      <td>68.2</td>\n",
       "      <td>178.0</td>\n",
       "      <td>2.998</td>\n",
       "      <td>16.4</td>\n",
       "      <td>27.0</td>\n",
       "      <td>10/8/2011</td>\n",
       "      <td>62.777639</td>\n",
       "      <td>43338</td>\n",
       "    </tr>\n",
       "    <tr>\n",
       "      <th>5</th>\n",
       "      <td>Audi</td>\n",
       "      <td>A6</td>\n",
       "      <td>Passenger</td>\n",
       "      <td>33.95</td>\n",
       "      <td>2.8</td>\n",
       "      <td>200</td>\n",
       "      <td>108.7</td>\n",
       "      <td>76.1</td>\n",
       "      <td>192.0</td>\n",
       "      <td>3.561</td>\n",
       "      <td>18.5</td>\n",
       "      <td>22.0</td>\n",
       "      <td>8/9/2011</td>\n",
       "      <td>84.565105</td>\n",
       "      <td>32504</td>\n",
       "    </tr>\n",
       "    <tr>\n",
       "      <th>...</th>\n",
       "      <td>...</td>\n",
       "      <td>...</td>\n",
       "      <td>...</td>\n",
       "      <td>...</td>\n",
       "      <td>...</td>\n",
       "      <td>...</td>\n",
       "      <td>...</td>\n",
       "      <td>...</td>\n",
       "      <td>...</td>\n",
       "      <td>...</td>\n",
       "      <td>...</td>\n",
       "      <td>...</td>\n",
       "      <td>...</td>\n",
       "      <td>...</td>\n",
       "      <td>...</td>\n",
       "    </tr>\n",
       "    <tr>\n",
       "      <th>151</th>\n",
       "      <td>Volvo</td>\n",
       "      <td>V40</td>\n",
       "      <td>Passenger</td>\n",
       "      <td>24.40</td>\n",
       "      <td>1.9</td>\n",
       "      <td>160</td>\n",
       "      <td>100.5</td>\n",
       "      <td>67.6</td>\n",
       "      <td>176.6</td>\n",
       "      <td>3.042</td>\n",
       "      <td>15.8</td>\n",
       "      <td>25.0</td>\n",
       "      <td>9/21/2011</td>\n",
       "      <td>66.498812</td>\n",
       "      <td>40630</td>\n",
       "    </tr>\n",
       "    <tr>\n",
       "      <th>152</th>\n",
       "      <td>Volvo</td>\n",
       "      <td>S70</td>\n",
       "      <td>Passenger</td>\n",
       "      <td>27.50</td>\n",
       "      <td>2.4</td>\n",
       "      <td>168</td>\n",
       "      <td>104.9</td>\n",
       "      <td>69.3</td>\n",
       "      <td>185.9</td>\n",
       "      <td>3.208</td>\n",
       "      <td>17.9</td>\n",
       "      <td>25.0</td>\n",
       "      <td>11/24/2012</td>\n",
       "      <td>70.654495</td>\n",
       "      <td>38695</td>\n",
       "    </tr>\n",
       "    <tr>\n",
       "      <th>153</th>\n",
       "      <td>Volvo</td>\n",
       "      <td>V70</td>\n",
       "      <td>Passenger</td>\n",
       "      <td>28.80</td>\n",
       "      <td>2.4</td>\n",
       "      <td>168</td>\n",
       "      <td>104.9</td>\n",
       "      <td>69.3</td>\n",
       "      <td>186.2</td>\n",
       "      <td>3.259</td>\n",
       "      <td>17.9</td>\n",
       "      <td>25.0</td>\n",
       "      <td>6/25/2011</td>\n",
       "      <td>71.155978</td>\n",
       "      <td>38695</td>\n",
       "    </tr>\n",
       "    <tr>\n",
       "      <th>154</th>\n",
       "      <td>Volvo</td>\n",
       "      <td>C70</td>\n",
       "      <td>Passenger</td>\n",
       "      <td>45.50</td>\n",
       "      <td>2.3</td>\n",
       "      <td>236</td>\n",
       "      <td>104.9</td>\n",
       "      <td>71.5</td>\n",
       "      <td>185.7</td>\n",
       "      <td>3.601</td>\n",
       "      <td>18.5</td>\n",
       "      <td>23.0</td>\n",
       "      <td>4/26/2011</td>\n",
       "      <td>101.623357</td>\n",
       "      <td>27545</td>\n",
       "    </tr>\n",
       "    <tr>\n",
       "      <th>155</th>\n",
       "      <td>Volvo</td>\n",
       "      <td>S80</td>\n",
       "      <td>Passenger</td>\n",
       "      <td>36.00</td>\n",
       "      <td>2.9</td>\n",
       "      <td>201</td>\n",
       "      <td>109.9</td>\n",
       "      <td>72.1</td>\n",
       "      <td>189.8</td>\n",
       "      <td>3.600</td>\n",
       "      <td>21.1</td>\n",
       "      <td>24.0</td>\n",
       "      <td>11/14/2011</td>\n",
       "      <td>85.735655</td>\n",
       "      <td>32342</td>\n",
       "    </tr>\n",
       "  </tbody>\n",
       "</table>\n",
       "<p>100 rows × 15 columns</p>\n",
       "</div>"
      ],
      "text/plain": [
       "    fabricante   modelo tipo_veiculo  preco  tamanho_motor  potencia  \\\n",
       "0        Acura  Integra    Passenger  21.50            1.8       140   \n",
       "1        Acura       TL    Passenger  28.40            3.2       225   \n",
       "3        Acura       RL    Passenger  42.00            3.5       210   \n",
       "4         Audi       A4    Passenger  23.99            1.8       150   \n",
       "5         Audi       A6    Passenger  33.95            2.8       200   \n",
       "..         ...      ...          ...    ...            ...       ...   \n",
       "151      Volvo      V40    Passenger  24.40            1.9       160   \n",
       "152      Volvo      S70    Passenger  27.50            2.4       168   \n",
       "153      Volvo      V70    Passenger  28.80            2.4       168   \n",
       "154      Volvo      C70    Passenger  45.50            2.3       236   \n",
       "155      Volvo      S80    Passenger  36.00            2.9       201   \n",
       "\n",
       "     entre_eixos  largura comprimento   peso  cap_combustivel  eficiencia  \\\n",
       "0          101.2     67.3       172.4  2.639             13.2        28.0   \n",
       "1          108.1     70.3       192.9  3.517             17.2        25.0   \n",
       "3          114.6     71.4       196.6  3.850             18.0        22.0   \n",
       "4          102.6     68.2       178.0  2.998             16.4        27.0   \n",
       "5          108.7     76.1       192.0  3.561             18.5        22.0   \n",
       "..           ...      ...         ...    ...              ...         ...   \n",
       "151        100.5     67.6       176.6  3.042             15.8        25.0   \n",
       "152        104.9     69.3       185.9  3.208             17.9        25.0   \n",
       "153        104.9     69.3       186.2  3.259             17.9        25.0   \n",
       "154        104.9     71.5       185.7  3.601             18.5        23.0   \n",
       "155        109.9     72.1       189.8  3.600             21.1        24.0   \n",
       "\n",
       "    ultima_versao  power_perf_factor  milhagem  \n",
       "0        2/2/2012          58.280150     46434  \n",
       "1        6/3/2011          91.370778     28892  \n",
       "3       3/10/2011          91.389779     30956  \n",
       "4       10/8/2011          62.777639     43338  \n",
       "5        8/9/2011          84.565105     32504  \n",
       "..            ...                ...       ...  \n",
       "151     9/21/2011          66.498812     40630  \n",
       "152    11/24/2012          70.654495     38695  \n",
       "153     6/25/2011          71.155978     38695  \n",
       "154     4/26/2011         101.623357     27545  \n",
       "155    11/14/2011          85.735655     32342  \n",
       "\n",
       "[100 rows x 15 columns]"
      ]
     },
     "execution_count": 21,
     "metadata": {},
     "output_type": "execute_result"
    }
   ],
   "source": [
    "#Armazenou o valor boolean em uma variavel...\n",
    "condicao = df.preco > 20\n",
    "df[condicao]"
   ]
  },
  {
   "cell_type": "code",
   "execution_count": 22,
   "metadata": {},
   "outputs": [
    {
     "data": {
      "text/html": [
       "<div>\n",
       "<style scoped>\n",
       "    .dataframe tbody tr th:only-of-type {\n",
       "        vertical-align: middle;\n",
       "    }\n",
       "\n",
       "    .dataframe tbody tr th {\n",
       "        vertical-align: top;\n",
       "    }\n",
       "\n",
       "    .dataframe thead th {\n",
       "        text-align: right;\n",
       "    }\n",
       "</style>\n",
       "<table border=\"1\" class=\"dataframe\">\n",
       "  <thead>\n",
       "    <tr style=\"text-align: right;\">\n",
       "      <th></th>\n",
       "      <th>fabricante</th>\n",
       "      <th>modelo</th>\n",
       "      <th>tipo_veiculo</th>\n",
       "      <th>preco</th>\n",
       "      <th>tamanho_motor</th>\n",
       "      <th>potencia</th>\n",
       "      <th>entre_eixos</th>\n",
       "      <th>largura</th>\n",
       "      <th>comprimento</th>\n",
       "      <th>peso</th>\n",
       "      <th>cap_combustivel</th>\n",
       "      <th>eficiencia</th>\n",
       "      <th>ultima_versao</th>\n",
       "      <th>power_perf_factor</th>\n",
       "      <th>milhagem</th>\n",
       "    </tr>\n",
       "  </thead>\n",
       "  <tbody>\n",
       "    <tr>\n",
       "      <th>0</th>\n",
       "      <td>Acura</td>\n",
       "      <td>Integra</td>\n",
       "      <td>Passenger</td>\n",
       "      <td>21.50</td>\n",
       "      <td>1.8</td>\n",
       "      <td>140</td>\n",
       "      <td>101.2</td>\n",
       "      <td>67.3</td>\n",
       "      <td>172.4</td>\n",
       "      <td>2.639</td>\n",
       "      <td>13.2</td>\n",
       "      <td>28.0</td>\n",
       "      <td>2/2/2012</td>\n",
       "      <td>58.280150</td>\n",
       "      <td>46434</td>\n",
       "    </tr>\n",
       "    <tr>\n",
       "      <th>1</th>\n",
       "      <td>Acura</td>\n",
       "      <td>TL</td>\n",
       "      <td>Passenger</td>\n",
       "      <td>28.40</td>\n",
       "      <td>3.2</td>\n",
       "      <td>225</td>\n",
       "      <td>108.1</td>\n",
       "      <td>70.3</td>\n",
       "      <td>192.9</td>\n",
       "      <td>3.517</td>\n",
       "      <td>17.2</td>\n",
       "      <td>25.0</td>\n",
       "      <td>6/3/2011</td>\n",
       "      <td>91.370778</td>\n",
       "      <td>28892</td>\n",
       "    </tr>\n",
       "    <tr>\n",
       "      <th>3</th>\n",
       "      <td>Acura</td>\n",
       "      <td>RL</td>\n",
       "      <td>Passenger</td>\n",
       "      <td>42.00</td>\n",
       "      <td>3.5</td>\n",
       "      <td>210</td>\n",
       "      <td>114.6</td>\n",
       "      <td>71.4</td>\n",
       "      <td>196.6</td>\n",
       "      <td>3.850</td>\n",
       "      <td>18.0</td>\n",
       "      <td>22.0</td>\n",
       "      <td>3/10/2011</td>\n",
       "      <td>91.389779</td>\n",
       "      <td>30956</td>\n",
       "    </tr>\n",
       "    <tr>\n",
       "      <th>4</th>\n",
       "      <td>Audi</td>\n",
       "      <td>A4</td>\n",
       "      <td>Passenger</td>\n",
       "      <td>23.99</td>\n",
       "      <td>1.8</td>\n",
       "      <td>150</td>\n",
       "      <td>102.6</td>\n",
       "      <td>68.2</td>\n",
       "      <td>178.0</td>\n",
       "      <td>2.998</td>\n",
       "      <td>16.4</td>\n",
       "      <td>27.0</td>\n",
       "      <td>10/8/2011</td>\n",
       "      <td>62.777639</td>\n",
       "      <td>43338</td>\n",
       "    </tr>\n",
       "    <tr>\n",
       "      <th>5</th>\n",
       "      <td>Audi</td>\n",
       "      <td>A6</td>\n",
       "      <td>Passenger</td>\n",
       "      <td>33.95</td>\n",
       "      <td>2.8</td>\n",
       "      <td>200</td>\n",
       "      <td>108.7</td>\n",
       "      <td>76.1</td>\n",
       "      <td>192.0</td>\n",
       "      <td>3.561</td>\n",
       "      <td>18.5</td>\n",
       "      <td>22.0</td>\n",
       "      <td>8/9/2011</td>\n",
       "      <td>84.565105</td>\n",
       "      <td>32504</td>\n",
       "    </tr>\n",
       "    <tr>\n",
       "      <th>...</th>\n",
       "      <td>...</td>\n",
       "      <td>...</td>\n",
       "      <td>...</td>\n",
       "      <td>...</td>\n",
       "      <td>...</td>\n",
       "      <td>...</td>\n",
       "      <td>...</td>\n",
       "      <td>...</td>\n",
       "      <td>...</td>\n",
       "      <td>...</td>\n",
       "      <td>...</td>\n",
       "      <td>...</td>\n",
       "      <td>...</td>\n",
       "      <td>...</td>\n",
       "      <td>...</td>\n",
       "    </tr>\n",
       "    <tr>\n",
       "      <th>151</th>\n",
       "      <td>Volvo</td>\n",
       "      <td>V40</td>\n",
       "      <td>Passenger</td>\n",
       "      <td>24.40</td>\n",
       "      <td>1.9</td>\n",
       "      <td>160</td>\n",
       "      <td>100.5</td>\n",
       "      <td>67.6</td>\n",
       "      <td>176.6</td>\n",
       "      <td>3.042</td>\n",
       "      <td>15.8</td>\n",
       "      <td>25.0</td>\n",
       "      <td>9/21/2011</td>\n",
       "      <td>66.498812</td>\n",
       "      <td>40630</td>\n",
       "    </tr>\n",
       "    <tr>\n",
       "      <th>152</th>\n",
       "      <td>Volvo</td>\n",
       "      <td>S70</td>\n",
       "      <td>Passenger</td>\n",
       "      <td>27.50</td>\n",
       "      <td>2.4</td>\n",
       "      <td>168</td>\n",
       "      <td>104.9</td>\n",
       "      <td>69.3</td>\n",
       "      <td>185.9</td>\n",
       "      <td>3.208</td>\n",
       "      <td>17.9</td>\n",
       "      <td>25.0</td>\n",
       "      <td>11/24/2012</td>\n",
       "      <td>70.654495</td>\n",
       "      <td>38695</td>\n",
       "    </tr>\n",
       "    <tr>\n",
       "      <th>153</th>\n",
       "      <td>Volvo</td>\n",
       "      <td>V70</td>\n",
       "      <td>Passenger</td>\n",
       "      <td>28.80</td>\n",
       "      <td>2.4</td>\n",
       "      <td>168</td>\n",
       "      <td>104.9</td>\n",
       "      <td>69.3</td>\n",
       "      <td>186.2</td>\n",
       "      <td>3.259</td>\n",
       "      <td>17.9</td>\n",
       "      <td>25.0</td>\n",
       "      <td>6/25/2011</td>\n",
       "      <td>71.155978</td>\n",
       "      <td>38695</td>\n",
       "    </tr>\n",
       "    <tr>\n",
       "      <th>154</th>\n",
       "      <td>Volvo</td>\n",
       "      <td>C70</td>\n",
       "      <td>Passenger</td>\n",
       "      <td>45.50</td>\n",
       "      <td>2.3</td>\n",
       "      <td>236</td>\n",
       "      <td>104.9</td>\n",
       "      <td>71.5</td>\n",
       "      <td>185.7</td>\n",
       "      <td>3.601</td>\n",
       "      <td>18.5</td>\n",
       "      <td>23.0</td>\n",
       "      <td>4/26/2011</td>\n",
       "      <td>101.623357</td>\n",
       "      <td>27545</td>\n",
       "    </tr>\n",
       "    <tr>\n",
       "      <th>155</th>\n",
       "      <td>Volvo</td>\n",
       "      <td>S80</td>\n",
       "      <td>Passenger</td>\n",
       "      <td>36.00</td>\n",
       "      <td>2.9</td>\n",
       "      <td>201</td>\n",
       "      <td>109.9</td>\n",
       "      <td>72.1</td>\n",
       "      <td>189.8</td>\n",
       "      <td>3.600</td>\n",
       "      <td>21.1</td>\n",
       "      <td>24.0</td>\n",
       "      <td>11/14/2011</td>\n",
       "      <td>85.735655</td>\n",
       "      <td>32342</td>\n",
       "    </tr>\n",
       "  </tbody>\n",
       "</table>\n",
       "<p>100 rows × 15 columns</p>\n",
       "</div>"
      ],
      "text/plain": [
       "    fabricante   modelo tipo_veiculo  preco  tamanho_motor  potencia  \\\n",
       "0        Acura  Integra    Passenger  21.50            1.8       140   \n",
       "1        Acura       TL    Passenger  28.40            3.2       225   \n",
       "3        Acura       RL    Passenger  42.00            3.5       210   \n",
       "4         Audi       A4    Passenger  23.99            1.8       150   \n",
       "5         Audi       A6    Passenger  33.95            2.8       200   \n",
       "..         ...      ...          ...    ...            ...       ...   \n",
       "151      Volvo      V40    Passenger  24.40            1.9       160   \n",
       "152      Volvo      S70    Passenger  27.50            2.4       168   \n",
       "153      Volvo      V70    Passenger  28.80            2.4       168   \n",
       "154      Volvo      C70    Passenger  45.50            2.3       236   \n",
       "155      Volvo      S80    Passenger  36.00            2.9       201   \n",
       "\n",
       "     entre_eixos  largura comprimento   peso  cap_combustivel  eficiencia  \\\n",
       "0          101.2     67.3       172.4  2.639             13.2        28.0   \n",
       "1          108.1     70.3       192.9  3.517             17.2        25.0   \n",
       "3          114.6     71.4       196.6  3.850             18.0        22.0   \n",
       "4          102.6     68.2       178.0  2.998             16.4        27.0   \n",
       "5          108.7     76.1       192.0  3.561             18.5        22.0   \n",
       "..           ...      ...         ...    ...              ...         ...   \n",
       "151        100.5     67.6       176.6  3.042             15.8        25.0   \n",
       "152        104.9     69.3       185.9  3.208             17.9        25.0   \n",
       "153        104.9     69.3       186.2  3.259             17.9        25.0   \n",
       "154        104.9     71.5       185.7  3.601             18.5        23.0   \n",
       "155        109.9     72.1       189.8  3.600             21.1        24.0   \n",
       "\n",
       "    ultima_versao  power_perf_factor  milhagem  \n",
       "0        2/2/2012          58.280150     46434  \n",
       "1        6/3/2011          91.370778     28892  \n",
       "3       3/10/2011          91.389779     30956  \n",
       "4       10/8/2011          62.777639     43338  \n",
       "5        8/9/2011          84.565105     32504  \n",
       "..            ...                ...       ...  \n",
       "151     9/21/2011          66.498812     40630  \n",
       "152    11/24/2012          70.654495     38695  \n",
       "153     6/25/2011          71.155978     38695  \n",
       "154     4/26/2011         101.623357     27545  \n",
       "155    11/14/2011          85.735655     32342  \n",
       "\n",
       "[100 rows x 15 columns]"
      ]
     },
     "execution_count": 22,
     "metadata": {},
     "output_type": "execute_result"
    }
   ],
   "source": [
    "#Outra forma\n",
    "df[df.preco > 20]"
   ]
  },
  {
   "cell_type": "code",
   "execution_count": 23,
   "metadata": {},
   "outputs": [
    {
     "data": {
      "text/html": [
       "<div>\n",
       "<style scoped>\n",
       "    .dataframe tbody tr th:only-of-type {\n",
       "        vertical-align: middle;\n",
       "    }\n",
       "\n",
       "    .dataframe tbody tr th {\n",
       "        vertical-align: top;\n",
       "    }\n",
       "\n",
       "    .dataframe thead th {\n",
       "        text-align: right;\n",
       "    }\n",
       "</style>\n",
       "<table border=\"1\" class=\"dataframe\">\n",
       "  <thead>\n",
       "    <tr style=\"text-align: right;\">\n",
       "      <th></th>\n",
       "      <th>fabricante</th>\n",
       "      <th>modelo</th>\n",
       "      <th>tipo_veiculo</th>\n",
       "      <th>preco</th>\n",
       "      <th>tamanho_motor</th>\n",
       "      <th>potencia</th>\n",
       "      <th>entre_eixos</th>\n",
       "      <th>largura</th>\n",
       "      <th>comprimento</th>\n",
       "      <th>peso</th>\n",
       "      <th>cap_combustivel</th>\n",
       "      <th>eficiencia</th>\n",
       "      <th>ultima_versao</th>\n",
       "      <th>power_perf_factor</th>\n",
       "      <th>milhagem</th>\n",
       "    </tr>\n",
       "  </thead>\n",
       "  <tbody>\n",
       "    <tr>\n",
       "      <th>3</th>\n",
       "      <td>Acura</td>\n",
       "      <td>RL</td>\n",
       "      <td>Passenger</td>\n",
       "      <td>42.000</td>\n",
       "      <td>3.5</td>\n",
       "      <td>210</td>\n",
       "      <td>114.6</td>\n",
       "      <td>71.4</td>\n",
       "      <td>196.6</td>\n",
       "      <td>3.850</td>\n",
       "      <td>18.0</td>\n",
       "      <td>22.0</td>\n",
       "      <td>3/10/2011</td>\n",
       "      <td>91.389779</td>\n",
       "      <td>30956</td>\n",
       "    </tr>\n",
       "    <tr>\n",
       "      <th>6</th>\n",
       "      <td>Audi</td>\n",
       "      <td>A8</td>\n",
       "      <td>Passenger</td>\n",
       "      <td>62.000</td>\n",
       "      <td>4.2</td>\n",
       "      <td>310</td>\n",
       "      <td>113.0</td>\n",
       "      <td>74.0</td>\n",
       "      <td>198.2</td>\n",
       "      <td>3.902</td>\n",
       "      <td>23.7</td>\n",
       "      <td>21.0</td>\n",
       "      <td>2/27/2012</td>\n",
       "      <td>134.656858</td>\n",
       "      <td>20970</td>\n",
       "    </tr>\n",
       "    <tr>\n",
       "      <th>15</th>\n",
       "      <td>Cadillac</td>\n",
       "      <td>Seville</td>\n",
       "      <td>Passenger</td>\n",
       "      <td>44.475</td>\n",
       "      <td>4.6</td>\n",
       "      <td>275</td>\n",
       "      <td>112.2</td>\n",
       "      <td>75.0</td>\n",
       "      <td>201.0</td>\n",
       "      <td>NaN</td>\n",
       "      <td>18.5</td>\n",
       "      <td>22.0</td>\n",
       "      <td>4/29/2011</td>\n",
       "      <td>115.621358</td>\n",
       "      <td>23639</td>\n",
       "    </tr>\n",
       "    <tr>\n",
       "      <th>18</th>\n",
       "      <td>Cadillac</td>\n",
       "      <td>Escalade</td>\n",
       "      <td>Car</td>\n",
       "      <td>46.225</td>\n",
       "      <td>5.7</td>\n",
       "      <td>255</td>\n",
       "      <td>117.5</td>\n",
       "      <td>77.0</td>\n",
       "      <td>201.2</td>\n",
       "      <td>5.572</td>\n",
       "      <td>30.0</td>\n",
       "      <td>15.0</td>\n",
       "      <td>4/17/2012</td>\n",
       "      <td>109.509117</td>\n",
       "      <td>25493</td>\n",
       "    </tr>\n",
       "    <tr>\n",
       "      <th>24</th>\n",
       "      <td>Chevrolet</td>\n",
       "      <td>Corvette</td>\n",
       "      <td>Passenger</td>\n",
       "      <td>45.705</td>\n",
       "      <td>5.7</td>\n",
       "      <td>345</td>\n",
       "      <td>104.5</td>\n",
       "      <td>73.6</td>\n",
       "      <td>179.7</td>\n",
       "      <td>3.210</td>\n",
       "      <td>19.1</td>\n",
       "      <td>22.0</td>\n",
       "      <td>5/12/2012</td>\n",
       "      <td>141.141150</td>\n",
       "      <td>18842</td>\n",
       "    </tr>\n",
       "    <tr>\n",
       "      <th>38</th>\n",
       "      <td>Dodge</td>\n",
       "      <td>Viper</td>\n",
       "      <td>Passenger</td>\n",
       "      <td>69.725</td>\n",
       "      <td>8.0</td>\n",
       "      <td>450</td>\n",
       "      <td>96.2</td>\n",
       "      <td>75.7</td>\n",
       "      <td>176.7</td>\n",
       "      <td>3.375</td>\n",
       "      <td>19.0</td>\n",
       "      <td>16.0</td>\n",
       "      <td>8/7/2011</td>\n",
       "      <td>188.144323</td>\n",
       "      <td>14446</td>\n",
       "    </tr>\n",
       "    <tr>\n",
       "      <th>55</th>\n",
       "      <td>Ford</td>\n",
       "      <td>F-Series</td>\n",
       "      <td>Car</td>\n",
       "      <td>99.999</td>\n",
       "      <td>9.9</td>\n",
       "      <td>999</td>\n",
       "      <td>999.9</td>\n",
       "      <td>79.1</td>\n",
       "      <td>224.5</td>\n",
       "      <td>4.241</td>\n",
       "      <td>25.1</td>\n",
       "      <td>18.0</td>\n",
       "      <td>8/16/2012</td>\n",
       "      <td>89.401935</td>\n",
       "      <td>29549</td>\n",
       "    </tr>\n",
       "    <tr>\n",
       "      <th>65</th>\n",
       "      <td>Jaguar</td>\n",
       "      <td>S-Type</td>\n",
       "      <td>Passenger</td>\n",
       "      <td>42.800</td>\n",
       "      <td>3.0</td>\n",
       "      <td>240</td>\n",
       "      <td>114.5</td>\n",
       "      <td>71.6</td>\n",
       "      <td>191.3</td>\n",
       "      <td>3.650</td>\n",
       "      <td>18.4</td>\n",
       "      <td>21.0</td>\n",
       "      <td>11/3/2012</td>\n",
       "      <td>102.178985</td>\n",
       "      <td>27086</td>\n",
       "    </tr>\n",
       "    <tr>\n",
       "      <th>71</th>\n",
       "      <td>Lexus</td>\n",
       "      <td>GS400</td>\n",
       "      <td>Passenger</td>\n",
       "      <td>46.305</td>\n",
       "      <td>4.0</td>\n",
       "      <td>300</td>\n",
       "      <td>110.2</td>\n",
       "      <td>70.9</td>\n",
       "      <td>189.2</td>\n",
       "      <td>3.693</td>\n",
       "      <td>19.8</td>\n",
       "      <td>21.0</td>\n",
       "      <td>11/28/2012</td>\n",
       "      <td>125.013357</td>\n",
       "      <td>21669</td>\n",
       "    </tr>\n",
       "    <tr>\n",
       "      <th>72</th>\n",
       "      <td>Lexus</td>\n",
       "      <td>LS400</td>\n",
       "      <td>Passenger</td>\n",
       "      <td>54.005</td>\n",
       "      <td>4.0</td>\n",
       "      <td>290</td>\n",
       "      <td>112.2</td>\n",
       "      <td>72.0</td>\n",
       "      <td>196.7</td>\n",
       "      <td>3.890</td>\n",
       "      <td>22.5</td>\n",
       "      <td>22.0</td>\n",
       "      <td>3/29/2012</td>\n",
       "      <td>124.446716</td>\n",
       "      <td>22416</td>\n",
       "    </tr>\n",
       "  </tbody>\n",
       "</table>\n",
       "</div>"
      ],
      "text/plain": [
       "   fabricante    modelo tipo_veiculo   preco  tamanho_motor  potencia  \\\n",
       "3       Acura        RL    Passenger  42.000            3.5       210   \n",
       "6        Audi        A8    Passenger  62.000            4.2       310   \n",
       "15   Cadillac   Seville    Passenger  44.475            4.6       275   \n",
       "18   Cadillac  Escalade          Car  46.225            5.7       255   \n",
       "24  Chevrolet  Corvette    Passenger  45.705            5.7       345   \n",
       "38      Dodge     Viper    Passenger  69.725            8.0       450   \n",
       "55       Ford  F-Series          Car  99.999            9.9       999   \n",
       "65     Jaguar    S-Type    Passenger  42.800            3.0       240   \n",
       "71      Lexus     GS400    Passenger  46.305            4.0       300   \n",
       "72      Lexus     LS400    Passenger  54.005            4.0       290   \n",
       "\n",
       "    entre_eixos  largura comprimento   peso  cap_combustivel  eficiencia  \\\n",
       "3         114.6     71.4       196.6  3.850             18.0        22.0   \n",
       "6         113.0     74.0       198.2  3.902             23.7        21.0   \n",
       "15        112.2     75.0       201.0    NaN             18.5        22.0   \n",
       "18        117.5     77.0       201.2  5.572             30.0        15.0   \n",
       "24        104.5     73.6       179.7  3.210             19.1        22.0   \n",
       "38         96.2     75.7       176.7  3.375             19.0        16.0   \n",
       "55        999.9     79.1       224.5  4.241             25.1        18.0   \n",
       "65        114.5     71.6       191.3  3.650             18.4        21.0   \n",
       "71        110.2     70.9       189.2  3.693             19.8        21.0   \n",
       "72        112.2     72.0       196.7  3.890             22.5        22.0   \n",
       "\n",
       "   ultima_versao  power_perf_factor  milhagem  \n",
       "3      3/10/2011          91.389779     30956  \n",
       "6      2/27/2012         134.656858     20970  \n",
       "15     4/29/2011         115.621358     23639  \n",
       "18     4/17/2012         109.509117     25493  \n",
       "24     5/12/2012         141.141150     18842  \n",
       "38      8/7/2011         188.144323     14446  \n",
       "55     8/16/2012          89.401935     29549  \n",
       "65     11/3/2012         102.178985     27086  \n",
       "71    11/28/2012         125.013357     21669  \n",
       "72     3/29/2012         124.446716     22416  "
      ]
     },
     "execution_count": 23,
     "metadata": {},
     "output_type": "execute_result"
    }
   ],
   "source": [
    "#Filtrando tudo onde a coluna preco é maior que 40...\n",
    "df.query('preco >= 40').head(10)"
   ]
  },
  {
   "cell_type": "code",
   "execution_count": 24,
   "metadata": {},
   "outputs": [
    {
     "data": {
      "text/html": [
       "<div>\n",
       "<style scoped>\n",
       "    .dataframe tbody tr th:only-of-type {\n",
       "        vertical-align: middle;\n",
       "    }\n",
       "\n",
       "    .dataframe tbody tr th {\n",
       "        vertical-align: top;\n",
       "    }\n",
       "\n",
       "    .dataframe thead th {\n",
       "        text-align: right;\n",
       "    }\n",
       "</style>\n",
       "<table border=\"1\" class=\"dataframe\">\n",
       "  <thead>\n",
       "    <tr style=\"text-align: right;\">\n",
       "      <th></th>\n",
       "      <th>fabricante</th>\n",
       "      <th>modelo</th>\n",
       "      <th>tipo_veiculo</th>\n",
       "      <th>preco</th>\n",
       "      <th>tamanho_motor</th>\n",
       "      <th>potencia</th>\n",
       "      <th>entre_eixos</th>\n",
       "      <th>largura</th>\n",
       "      <th>comprimento</th>\n",
       "      <th>peso</th>\n",
       "      <th>cap_combustivel</th>\n",
       "      <th>eficiencia</th>\n",
       "      <th>ultima_versao</th>\n",
       "      <th>power_perf_factor</th>\n",
       "      <th>milhagem</th>\n",
       "    </tr>\n",
       "  </thead>\n",
       "  <tbody>\n",
       "    <tr>\n",
       "      <th>4</th>\n",
       "      <td>Audi</td>\n",
       "      <td>A4</td>\n",
       "      <td>Passenger</td>\n",
       "      <td>23.99</td>\n",
       "      <td>1.8</td>\n",
       "      <td>150</td>\n",
       "      <td>102.6</td>\n",
       "      <td>68.2</td>\n",
       "      <td>178.0</td>\n",
       "      <td>2.998</td>\n",
       "      <td>16.4</td>\n",
       "      <td>27.0</td>\n",
       "      <td>10/8/2011</td>\n",
       "      <td>62.777639</td>\n",
       "      <td>43338</td>\n",
       "    </tr>\n",
       "    <tr>\n",
       "      <th>5</th>\n",
       "      <td>Audi</td>\n",
       "      <td>A6</td>\n",
       "      <td>Passenger</td>\n",
       "      <td>33.95</td>\n",
       "      <td>2.8</td>\n",
       "      <td>200</td>\n",
       "      <td>108.7</td>\n",
       "      <td>76.1</td>\n",
       "      <td>192.0</td>\n",
       "      <td>3.561</td>\n",
       "      <td>18.5</td>\n",
       "      <td>22.0</td>\n",
       "      <td>8/9/2011</td>\n",
       "      <td>84.565105</td>\n",
       "      <td>32504</td>\n",
       "    </tr>\n",
       "    <tr>\n",
       "      <th>6</th>\n",
       "      <td>Audi</td>\n",
       "      <td>A8</td>\n",
       "      <td>Passenger</td>\n",
       "      <td>62.00</td>\n",
       "      <td>4.2</td>\n",
       "      <td>310</td>\n",
       "      <td>113.0</td>\n",
       "      <td>74.0</td>\n",
       "      <td>198.2</td>\n",
       "      <td>3.902</td>\n",
       "      <td>23.7</td>\n",
       "      <td>21.0</td>\n",
       "      <td>2/27/2012</td>\n",
       "      <td>134.656858</td>\n",
       "      <td>20970</td>\n",
       "    </tr>\n",
       "    <tr>\n",
       "      <th>7</th>\n",
       "      <td>BMW</td>\n",
       "      <td>323i</td>\n",
       "      <td>Passenger</td>\n",
       "      <td>26.99</td>\n",
       "      <td>2.5</td>\n",
       "      <td>170</td>\n",
       "      <td>107.3</td>\n",
       "      <td>68.4</td>\n",
       "      <td>176.0</td>\n",
       "      <td>3.179</td>\n",
       "      <td>16.6</td>\n",
       "      <td>26.0</td>\n",
       "      <td>6/28/2011</td>\n",
       "      <td>71.191207</td>\n",
       "      <td>38240</td>\n",
       "    </tr>\n",
       "    <tr>\n",
       "      <th>8</th>\n",
       "      <td>BMW</td>\n",
       "      <td>328i</td>\n",
       "      <td>Passenger</td>\n",
       "      <td>33.40</td>\n",
       "      <td>2.8</td>\n",
       "      <td>193</td>\n",
       "      <td>107.3</td>\n",
       "      <td>68.5</td>\n",
       "      <td>176.0</td>\n",
       "      <td>3.197</td>\n",
       "      <td>16.6</td>\n",
       "      <td>24.0</td>\n",
       "      <td>1/29/2012</td>\n",
       "      <td>81.877069</td>\n",
       "      <td>33682</td>\n",
       "    </tr>\n",
       "    <tr>\n",
       "      <th>9</th>\n",
       "      <td>BMW</td>\n",
       "      <td>528i</td>\n",
       "      <td>Passenger</td>\n",
       "      <td>38.90</td>\n",
       "      <td>2.8</td>\n",
       "      <td>193</td>\n",
       "      <td>111.4</td>\n",
       "      <td>70.9</td>\n",
       "      <td>188.0</td>\n",
       "      <td>3.472</td>\n",
       "      <td>18.5</td>\n",
       "      <td>25.0</td>\n",
       "      <td>4/4/2011</td>\n",
       "      <td>83.998724</td>\n",
       "      <td>33682</td>\n",
       "    </tr>\n",
       "  </tbody>\n",
       "</table>\n",
       "</div>"
      ],
      "text/plain": [
       "  fabricante modelo tipo_veiculo  preco  tamanho_motor  potencia  entre_eixos  \\\n",
       "4       Audi     A4    Passenger  23.99            1.8       150        102.6   \n",
       "5       Audi     A6    Passenger  33.95            2.8       200        108.7   \n",
       "6       Audi     A8    Passenger  62.00            4.2       310        113.0   \n",
       "7        BMW   323i    Passenger  26.99            2.5       170        107.3   \n",
       "8        BMW   328i    Passenger  33.40            2.8       193        107.3   \n",
       "9        BMW   528i    Passenger  38.90            2.8       193        111.4   \n",
       "\n",
       "   largura comprimento   peso  cap_combustivel  eficiencia ultima_versao  \\\n",
       "4     68.2       178.0  2.998             16.4        27.0     10/8/2011   \n",
       "5     76.1       192.0  3.561             18.5        22.0      8/9/2011   \n",
       "6     74.0       198.2  3.902             23.7        21.0     2/27/2012   \n",
       "7     68.4       176.0  3.179             16.6        26.0     6/28/2011   \n",
       "8     68.5       176.0  3.197             16.6        24.0     1/29/2012   \n",
       "9     70.9       188.0  3.472             18.5        25.0      4/4/2011   \n",
       "\n",
       "   power_perf_factor  milhagem  \n",
       "4          62.777639     43338  \n",
       "5          84.565105     32504  \n",
       "6         134.656858     20970  \n",
       "7          71.191207     38240  \n",
       "8          81.877069     33682  \n",
       "9          83.998724     33682  "
      ]
     },
     "execution_count": 24,
     "metadata": {},
     "output_type": "execute_result"
    }
   ],
   "source": [
    "#Filtrando a coluna fabricante, selecionando as marcas desejadas...\n",
    "df.query('fabricante in [\"Audi\", \"Mercedes-Benz\", \"BMW\"]')"
   ]
  },
  {
   "cell_type": "code",
   "execution_count": 25,
   "metadata": {},
   "outputs": [
    {
     "data": {
      "text/html": [
       "<div>\n",
       "<style scoped>\n",
       "    .dataframe tbody tr th:only-of-type {\n",
       "        vertical-align: middle;\n",
       "    }\n",
       "\n",
       "    .dataframe tbody tr th {\n",
       "        vertical-align: top;\n",
       "    }\n",
       "\n",
       "    .dataframe thead th {\n",
       "        text-align: right;\n",
       "    }\n",
       "</style>\n",
       "<table border=\"1\" class=\"dataframe\">\n",
       "  <thead>\n",
       "    <tr style=\"text-align: right;\">\n",
       "      <th></th>\n",
       "      <th>fabricante</th>\n",
       "      <th>modelo</th>\n",
       "      <th>tipo_veiculo</th>\n",
       "      <th>preco</th>\n",
       "      <th>tamanho_motor</th>\n",
       "      <th>potencia</th>\n",
       "      <th>entre_eixos</th>\n",
       "      <th>largura</th>\n",
       "      <th>comprimento</th>\n",
       "      <th>peso</th>\n",
       "      <th>cap_combustivel</th>\n",
       "      <th>eficiencia</th>\n",
       "      <th>ultima_versao</th>\n",
       "      <th>power_perf_factor</th>\n",
       "      <th>milhagem</th>\n",
       "    </tr>\n",
       "  </thead>\n",
       "  <tbody>\n",
       "    <tr>\n",
       "      <th>91</th>\n",
       "      <td>Mercedes-B</td>\n",
       "      <td>C-Class</td>\n",
       "      <td>Passenger</td>\n",
       "      <td>31.75</td>\n",
       "      <td>2.3</td>\n",
       "      <td>185</td>\n",
       "      <td>105.9</td>\n",
       "      <td>67.7</td>\n",
       "      <td>177.4</td>\n",
       "      <td>3.250</td>\n",
       "      <td>16.4</td>\n",
       "      <td>26.0</td>\n",
       "      <td>4/24/2011</td>\n",
       "      <td>78.280731</td>\n",
       "      <td>35139</td>\n",
       "    </tr>\n",
       "    <tr>\n",
       "      <th>92</th>\n",
       "      <td>Mercedes-B</td>\n",
       "      <td>E-Class</td>\n",
       "      <td>Passenger</td>\n",
       "      <td>49.90</td>\n",
       "      <td>3.2</td>\n",
       "      <td>221</td>\n",
       "      <td>111.5</td>\n",
       "      <td>70.8</td>\n",
       "      <td>189.4</td>\n",
       "      <td>3.823</td>\n",
       "      <td>21.1</td>\n",
       "      <td>25.0</td>\n",
       "      <td>7/12/2011</td>\n",
       "      <td>98.249737</td>\n",
       "      <td>29415</td>\n",
       "    </tr>\n",
       "    <tr>\n",
       "      <th>93</th>\n",
       "      <td>Mercedes-B</td>\n",
       "      <td>S-Class</td>\n",
       "      <td>Passenger</td>\n",
       "      <td>69.70</td>\n",
       "      <td>4.3</td>\n",
       "      <td>275</td>\n",
       "      <td>121.5</td>\n",
       "      <td>73.1</td>\n",
       "      <td>203.1</td>\n",
       "      <td>4.133</td>\n",
       "      <td>23.2</td>\n",
       "      <td>21.0</td>\n",
       "      <td>6/13/2011</td>\n",
       "      <td>125.273876</td>\n",
       "      <td>23639</td>\n",
       "    </tr>\n",
       "    <tr>\n",
       "      <th>94</th>\n",
       "      <td>Mercedes-B</td>\n",
       "      <td>SL-Class</td>\n",
       "      <td>Passenger</td>\n",
       "      <td>82.60</td>\n",
       "      <td>5.0</td>\n",
       "      <td>302</td>\n",
       "      <td>99.0</td>\n",
       "      <td>71.3</td>\n",
       "      <td>177.1</td>\n",
       "      <td>4.125</td>\n",
       "      <td>21.1</td>\n",
       "      <td>20.0</td>\n",
       "      <td>3/17/2011</td>\n",
       "      <td>139.982294</td>\n",
       "      <td>21525</td>\n",
       "    </tr>\n",
       "    <tr>\n",
       "      <th>95</th>\n",
       "      <td>Mercedes-B</td>\n",
       "      <td>SLK</td>\n",
       "      <td>Passenger</td>\n",
       "      <td>38.90</td>\n",
       "      <td>2.3</td>\n",
       "      <td>190</td>\n",
       "      <td>94.5</td>\n",
       "      <td>67.5</td>\n",
       "      <td>157.9</td>\n",
       "      <td>3.055</td>\n",
       "      <td>15.9</td>\n",
       "      <td>26.0</td>\n",
       "      <td>1/16/2011</td>\n",
       "      <td>82.807362</td>\n",
       "      <td>34214</td>\n",
       "    </tr>\n",
       "    <tr>\n",
       "      <th>96</th>\n",
       "      <td>Mercedes-B</td>\n",
       "      <td>SLK230</td>\n",
       "      <td>Passenger</td>\n",
       "      <td>41.00</td>\n",
       "      <td>2.3</td>\n",
       "      <td>185</td>\n",
       "      <td>94.5</td>\n",
       "      <td>67.5</td>\n",
       "      <td>157.3</td>\n",
       "      <td>2.975</td>\n",
       "      <td>14.0</td>\n",
       "      <td>27.0</td>\n",
       "      <td>8/6/2011</td>\n",
       "      <td>81.848969</td>\n",
       "      <td>35139</td>\n",
       "    </tr>\n",
       "    <tr>\n",
       "      <th>97</th>\n",
       "      <td>Mercedes-B</td>\n",
       "      <td>CLK Coupe</td>\n",
       "      <td>Passenger</td>\n",
       "      <td>41.60</td>\n",
       "      <td>3.2</td>\n",
       "      <td>215</td>\n",
       "      <td>105.9</td>\n",
       "      <td>67.8</td>\n",
       "      <td>180.3</td>\n",
       "      <td>3.213</td>\n",
       "      <td>16.4</td>\n",
       "      <td>26.0</td>\n",
       "      <td>7/8/2011</td>\n",
       "      <td>92.925792</td>\n",
       "      <td>30236</td>\n",
       "    </tr>\n",
       "    <tr>\n",
       "      <th>98</th>\n",
       "      <td>Mercedes-B</td>\n",
       "      <td>CL500</td>\n",
       "      <td>Passenger</td>\n",
       "      <td>85.50</td>\n",
       "      <td>5.0</td>\n",
       "      <td>302</td>\n",
       "      <td>113.6</td>\n",
       "      <td>73.1</td>\n",
       "      <td>196.6</td>\n",
       "      <td>4.115</td>\n",
       "      <td>23.2</td>\n",
       "      <td>20.0</td>\n",
       "      <td>4/11/2011</td>\n",
       "      <td>141.100985</td>\n",
       "      <td>21525</td>\n",
       "    </tr>\n",
       "    <tr>\n",
       "      <th>99</th>\n",
       "      <td>Mercedes-B</td>\n",
       "      <td>M-Class</td>\n",
       "      <td>Car</td>\n",
       "      <td>35.30</td>\n",
       "      <td>3.2</td>\n",
       "      <td>215</td>\n",
       "      <td>111.0</td>\n",
       "      <td>72.2</td>\n",
       "      <td>180.6</td>\n",
       "      <td>4.387</td>\n",
       "      <td>19.0</td>\n",
       "      <td>20.0</td>\n",
       "      <td>2/10/2011</td>\n",
       "      <td>90.495532</td>\n",
       "      <td>30236</td>\n",
       "    </tr>\n",
       "  </tbody>\n",
       "</table>\n",
       "</div>"
      ],
      "text/plain": [
       "    fabricante     modelo tipo_veiculo  preco  tamanho_motor  potencia  \\\n",
       "91  Mercedes-B    C-Class    Passenger  31.75            2.3       185   \n",
       "92  Mercedes-B    E-Class    Passenger  49.90            3.2       221   \n",
       "93  Mercedes-B    S-Class    Passenger  69.70            4.3       275   \n",
       "94  Mercedes-B   SL-Class    Passenger  82.60            5.0       302   \n",
       "95  Mercedes-B        SLK    Passenger  38.90            2.3       190   \n",
       "96  Mercedes-B     SLK230    Passenger  41.00            2.3       185   \n",
       "97  Mercedes-B  CLK Coupe    Passenger  41.60            3.2       215   \n",
       "98  Mercedes-B      CL500    Passenger  85.50            5.0       302   \n",
       "99  Mercedes-B    M-Class          Car  35.30            3.2       215   \n",
       "\n",
       "    entre_eixos  largura comprimento   peso  cap_combustivel  eficiencia  \\\n",
       "91        105.9     67.7       177.4  3.250             16.4        26.0   \n",
       "92        111.5     70.8       189.4  3.823             21.1        25.0   \n",
       "93        121.5     73.1       203.1  4.133             23.2        21.0   \n",
       "94         99.0     71.3       177.1  4.125             21.1        20.0   \n",
       "95         94.5     67.5       157.9  3.055             15.9        26.0   \n",
       "96         94.5     67.5       157.3  2.975             14.0        27.0   \n",
       "97        105.9     67.8       180.3  3.213             16.4        26.0   \n",
       "98        113.6     73.1       196.6  4.115             23.2        20.0   \n",
       "99        111.0     72.2       180.6  4.387             19.0        20.0   \n",
       "\n",
       "   ultima_versao  power_perf_factor  milhagem  \n",
       "91     4/24/2011          78.280731     35139  \n",
       "92     7/12/2011          98.249737     29415  \n",
       "93     6/13/2011         125.273876     23639  \n",
       "94     3/17/2011         139.982294     21525  \n",
       "95     1/16/2011          82.807362     34214  \n",
       "96      8/6/2011          81.848969     35139  \n",
       "97      7/8/2011          92.925792     30236  \n",
       "98     4/11/2011         141.100985     21525  \n",
       "99     2/10/2011          90.495532     30236  "
      ]
     },
     "execution_count": 25,
     "metadata": {},
     "output_type": "execute_result"
    }
   ],
   "source": [
    "#Filtrando a coluna fabricante onde o nome do fabricante contenham Mercedes no nome...\n",
    "df.query('fabricante.str.contains(\"Mercedes\")', engine='python')"
   ]
  },
  {
   "cell_type": "code",
   "execution_count": 26,
   "metadata": {},
   "outputs": [
    {
     "data": {
      "text/plain": [
       "fabricante           0\n",
       "modelo               0\n",
       "tipo_veiculo         0\n",
       "preco                1\n",
       "tamanho_motor        0\n",
       "potencia             0\n",
       "entre_eixos          0\n",
       "largura              0\n",
       "comprimento          0\n",
       "peso                 1\n",
       "cap_combustivel      0\n",
       "eficiencia           2\n",
       "ultima_versao        0\n",
       "power_perf_factor    1\n",
       "milhagem             0\n",
       "dtype: int64"
      ]
     },
     "execution_count": 26,
     "metadata": {},
     "output_type": "execute_result"
    }
   ],
   "source": [
    "#Mostra os valores null em uma lista com coluna e quantidade de valores null...\n",
    "df.isnull().sum()"
   ]
  },
  {
   "cell_type": "code",
   "execution_count": 27,
   "metadata": {},
   "outputs": [
    {
     "data": {
      "text/html": [
       "<div>\n",
       "<style scoped>\n",
       "    .dataframe tbody tr th:only-of-type {\n",
       "        vertical-align: middle;\n",
       "    }\n",
       "\n",
       "    .dataframe tbody tr th {\n",
       "        vertical-align: top;\n",
       "    }\n",
       "\n",
       "    .dataframe thead th {\n",
       "        text-align: right;\n",
       "    }\n",
       "</style>\n",
       "<table border=\"1\" class=\"dataframe\">\n",
       "  <thead>\n",
       "    <tr style=\"text-align: right;\">\n",
       "      <th></th>\n",
       "      <th>fabricante</th>\n",
       "      <th>modelo</th>\n",
       "      <th>tipo_veiculo</th>\n",
       "      <th>preco</th>\n",
       "      <th>tamanho_motor</th>\n",
       "      <th>potencia</th>\n",
       "      <th>entre_eixos</th>\n",
       "      <th>largura</th>\n",
       "      <th>comprimento</th>\n",
       "      <th>peso</th>\n",
       "      <th>cap_combustivel</th>\n",
       "      <th>eficiencia</th>\n",
       "      <th>ultima_versao</th>\n",
       "      <th>power_perf_factor</th>\n",
       "      <th>milhagem</th>\n",
       "    </tr>\n",
       "  </thead>\n",
       "  <tbody>\n",
       "    <tr>\n",
       "      <th>0</th>\n",
       "      <td>0</td>\n",
       "      <td>0</td>\n",
       "      <td>0</td>\n",
       "      <td>1</td>\n",
       "      <td>0</td>\n",
       "      <td>0</td>\n",
       "      <td>0</td>\n",
       "      <td>0</td>\n",
       "      <td>0</td>\n",
       "      <td>1</td>\n",
       "      <td>0</td>\n",
       "      <td>2</td>\n",
       "      <td>0</td>\n",
       "      <td>1</td>\n",
       "      <td>0</td>\n",
       "    </tr>\n",
       "  </tbody>\n",
       "</table>\n",
       "</div>"
      ],
      "text/plain": [
       "   fabricante  modelo  tipo_veiculo  preco  tamanho_motor  potencia  \\\n",
       "0           0       0             0      1              0         0   \n",
       "\n",
       "   entre_eixos  largura  comprimento  peso  cap_combustivel  eficiencia  \\\n",
       "0            0        0            0     1                0           2   \n",
       "\n",
       "   ultima_versao  power_perf_factor  milhagem  \n",
       "0              0                  1         0  "
      ]
     },
     "execution_count": 27,
     "metadata": {},
     "output_type": "execute_result"
    }
   ],
   "source": [
    "#Mostra os valores null em um dataframe, .T faz a trasposição de linhas para colunas...\n",
    "df.isnull().sum().to_frame().T"
   ]
  },
  {
   "cell_type": "code",
   "execution_count": 49,
   "metadata": {},
   "outputs": [
    {
     "data": {
      "text/html": [
       "<div>\n",
       "<style scoped>\n",
       "    .dataframe tbody tr th:only-of-type {\n",
       "        vertical-align: middle;\n",
       "    }\n",
       "\n",
       "    .dataframe tbody tr th {\n",
       "        vertical-align: top;\n",
       "    }\n",
       "\n",
       "    .dataframe thead th {\n",
       "        text-align: right;\n",
       "    }\n",
       "</style>\n",
       "<table border=\"1\" class=\"dataframe\">\n",
       "  <thead>\n",
       "    <tr style=\"text-align: right;\">\n",
       "      <th></th>\n",
       "      <th>fabricante</th>\n",
       "      <th>modelo</th>\n",
       "      <th>tipo_veiculo</th>\n",
       "      <th>preco</th>\n",
       "      <th>tamanho_motor</th>\n",
       "      <th>potencia</th>\n",
       "      <th>entre_eixos</th>\n",
       "      <th>largura</th>\n",
       "      <th>comprimento</th>\n",
       "      <th>peso</th>\n",
       "      <th>cap_combustivel</th>\n",
       "      <th>eficiencia</th>\n",
       "      <th>ultima_versao</th>\n",
       "      <th>power_perf_factor</th>\n",
       "      <th>milhagem</th>\n",
       "    </tr>\n",
       "  </thead>\n",
       "  <tbody>\n",
       "    <tr>\n",
       "      <th>37</th>\n",
       "      <td>Dodge</td>\n",
       "      <td>Intrepid</td>\n",
       "      <td>Passenger</td>\n",
       "      <td>22.505</td>\n",
       "      <td>2.7</td>\n",
       "      <td>202</td>\n",
       "      <td>113.0</td>\n",
       "      <td>74.7</td>\n",
       "      <td>203.7</td>\n",
       "      <td>3.489</td>\n",
       "      <td>17.0</td>\n",
       "      <td>NaN</td>\n",
       "      <td>6/2/2012</td>\n",
       "      <td>80.831470</td>\n",
       "      <td>32182</td>\n",
       "    </tr>\n",
       "    <tr>\n",
       "      <th>108</th>\n",
       "      <td>Oldsmobile</td>\n",
       "      <td>Intrigue</td>\n",
       "      <td>Passenger</td>\n",
       "      <td>24.150</td>\n",
       "      <td>3.5</td>\n",
       "      <td>215</td>\n",
       "      <td>109.0</td>\n",
       "      <td>73.6</td>\n",
       "      <td>195.9</td>\n",
       "      <td>3.455</td>\n",
       "      <td>18.0</td>\n",
       "      <td>NaN</td>\n",
       "      <td>4/1/2011</td>\n",
       "      <td>86.272523</td>\n",
       "      <td>30236</td>\n",
       "    </tr>\n",
       "  </tbody>\n",
       "</table>\n",
       "</div>"
      ],
      "text/plain": [
       "     fabricante    modelo tipo_veiculo   preco  tamanho_motor  potencia  \\\n",
       "37        Dodge  Intrepid    Passenger  22.505            2.7       202   \n",
       "108  Oldsmobile  Intrigue    Passenger  24.150            3.5       215   \n",
       "\n",
       "     entre_eixos  largura comprimento   peso  cap_combustivel  eficiencia  \\\n",
       "37         113.0     74.7       203.7  3.489             17.0         NaN   \n",
       "108        109.0     73.6       195.9  3.455             18.0         NaN   \n",
       "\n",
       "    ultima_versao  power_perf_factor  milhagem  \n",
       "37       6/2/2012          80.831470     32182  \n",
       "108      4/1/2011          86.272523     30236  "
      ]
     },
     "execution_count": 49,
     "metadata": {},
     "output_type": "execute_result"
    }
   ],
   "source": [
    "#Filtrando a coluna onde tem os valores null...\n",
    "df[df['eficiencia'].isnull()]\n",
    "df[df.eficiencia.isnull()]"
   ]
  },
  {
   "cell_type": "code",
   "execution_count": 29,
   "metadata": {},
   "outputs": [
    {
     "data": {
      "text/html": [
       "<div>\n",
       "<style scoped>\n",
       "    .dataframe tbody tr th:only-of-type {\n",
       "        vertical-align: middle;\n",
       "    }\n",
       "\n",
       "    .dataframe tbody tr th {\n",
       "        vertical-align: top;\n",
       "    }\n",
       "\n",
       "    .dataframe thead th {\n",
       "        text-align: right;\n",
       "    }\n",
       "</style>\n",
       "<table border=\"1\" class=\"dataframe\">\n",
       "  <thead>\n",
       "    <tr style=\"text-align: right;\">\n",
       "      <th></th>\n",
       "      <th>fabricante</th>\n",
       "      <th>modelo</th>\n",
       "      <th>tipo_veiculo</th>\n",
       "      <th>preco</th>\n",
       "      <th>tamanho_motor</th>\n",
       "      <th>potencia</th>\n",
       "      <th>entre_eixos</th>\n",
       "      <th>largura</th>\n",
       "      <th>comprimento</th>\n",
       "      <th>peso</th>\n",
       "      <th>cap_combustivel</th>\n",
       "      <th>eficiencia</th>\n",
       "      <th>ultima_versao</th>\n",
       "      <th>power_perf_factor</th>\n",
       "      <th>milhagem</th>\n",
       "    </tr>\n",
       "  </thead>\n",
       "  <tbody>\n",
       "    <tr>\n",
       "      <th>2</th>\n",
       "      <td>Acura</td>\n",
       "      <td>CL</td>\n",
       "      <td>Passenger</td>\n",
       "      <td>NaN</td>\n",
       "      <td>3.2</td>\n",
       "      <td>225</td>\n",
       "      <td>106.9</td>\n",
       "      <td>70.6</td>\n",
       "      <td>192.0</td>\n",
       "      <td>3.470</td>\n",
       "      <td>17.2</td>\n",
       "      <td>26.0</td>\n",
       "      <td>1/4/2012</td>\n",
       "      <td>NaN</td>\n",
       "      <td>28892</td>\n",
       "    </tr>\n",
       "    <tr>\n",
       "      <th>15</th>\n",
       "      <td>Cadillac</td>\n",
       "      <td>Seville</td>\n",
       "      <td>Passenger</td>\n",
       "      <td>44.475</td>\n",
       "      <td>4.6</td>\n",
       "      <td>275</td>\n",
       "      <td>112.2</td>\n",
       "      <td>75.0</td>\n",
       "      <td>201.0</td>\n",
       "      <td>NaN</td>\n",
       "      <td>18.5</td>\n",
       "      <td>22.0</td>\n",
       "      <td>4/29/2011</td>\n",
       "      <td>115.621358</td>\n",
       "      <td>23639</td>\n",
       "    </tr>\n",
       "    <tr>\n",
       "      <th>37</th>\n",
       "      <td>Dodge</td>\n",
       "      <td>Intrepid</td>\n",
       "      <td>Passenger</td>\n",
       "      <td>22.505</td>\n",
       "      <td>2.7</td>\n",
       "      <td>202</td>\n",
       "      <td>113.0</td>\n",
       "      <td>74.7</td>\n",
       "      <td>203.7</td>\n",
       "      <td>3.489</td>\n",
       "      <td>17.0</td>\n",
       "      <td>NaN</td>\n",
       "      <td>6/2/2012</td>\n",
       "      <td>80.831470</td>\n",
       "      <td>32182</td>\n",
       "    </tr>\n",
       "    <tr>\n",
       "      <th>108</th>\n",
       "      <td>Oldsmobile</td>\n",
       "      <td>Intrigue</td>\n",
       "      <td>Passenger</td>\n",
       "      <td>24.150</td>\n",
       "      <td>3.5</td>\n",
       "      <td>215</td>\n",
       "      <td>109.0</td>\n",
       "      <td>73.6</td>\n",
       "      <td>195.9</td>\n",
       "      <td>3.455</td>\n",
       "      <td>18.0</td>\n",
       "      <td>NaN</td>\n",
       "      <td>4/1/2011</td>\n",
       "      <td>86.272523</td>\n",
       "      <td>30236</td>\n",
       "    </tr>\n",
       "  </tbody>\n",
       "</table>\n",
       "</div>"
      ],
      "text/plain": [
       "     fabricante    modelo tipo_veiculo   preco  tamanho_motor  potencia  \\\n",
       "2         Acura        CL    Passenger     NaN            3.2       225   \n",
       "15     Cadillac   Seville    Passenger  44.475            4.6       275   \n",
       "37        Dodge  Intrepid    Passenger  22.505            2.7       202   \n",
       "108  Oldsmobile  Intrigue    Passenger  24.150            3.5       215   \n",
       "\n",
       "     entre_eixos  largura comprimento   peso  cap_combustivel  eficiencia  \\\n",
       "2          106.9     70.6       192.0  3.470             17.2        26.0   \n",
       "15         112.2     75.0       201.0    NaN             18.5        22.0   \n",
       "37         113.0     74.7       203.7  3.489             17.0         NaN   \n",
       "108        109.0     73.6       195.9  3.455             18.0         NaN   \n",
       "\n",
       "    ultima_versao  power_perf_factor  milhagem  \n",
       "2        1/4/2012                NaN     28892  \n",
       "15      4/29/2011         115.621358     23639  \n",
       "37       6/2/2012          80.831470     32182  \n",
       "108      4/1/2011          86.272523     30236  "
      ]
     },
     "execution_count": 29,
     "metadata": {},
     "output_type": "execute_result"
    }
   ],
   "source": [
    "#Usando Or para filtrar a coluna onde os valores null aparece...\n",
    "df[df.preco.isnull() | df.peso.isnull() | df.eficiencia.isnull() | df.power_perf_factor.isnull()]"
   ]
  },
  {
   "cell_type": "code",
   "execution_count": 30,
   "metadata": {},
   "outputs": [
    {
     "name": "stderr",
     "output_type": "stream",
     "text": [
      "C:\\Users\\PC\\AppData\\Local\\Temp\\ipykernel_1968\\1081041607.py:1: FutureWarning: Downcasting object dtype arrays on .fillna, .ffill, .bfill is deprecated and will change in a future version. Call result.infer_objects(copy=False) instead. To opt-in to the future behavior, set `pd.set_option('future.no_silent_downcasting', True)`\n",
      "  df.fillna(0).head()\n"
     ]
    },
    {
     "data": {
      "text/html": [
       "<div>\n",
       "<style scoped>\n",
       "    .dataframe tbody tr th:only-of-type {\n",
       "        vertical-align: middle;\n",
       "    }\n",
       "\n",
       "    .dataframe tbody tr th {\n",
       "        vertical-align: top;\n",
       "    }\n",
       "\n",
       "    .dataframe thead th {\n",
       "        text-align: right;\n",
       "    }\n",
       "</style>\n",
       "<table border=\"1\" class=\"dataframe\">\n",
       "  <thead>\n",
       "    <tr style=\"text-align: right;\">\n",
       "      <th></th>\n",
       "      <th>fabricante</th>\n",
       "      <th>modelo</th>\n",
       "      <th>tipo_veiculo</th>\n",
       "      <th>preco</th>\n",
       "      <th>tamanho_motor</th>\n",
       "      <th>potencia</th>\n",
       "      <th>entre_eixos</th>\n",
       "      <th>largura</th>\n",
       "      <th>comprimento</th>\n",
       "      <th>peso</th>\n",
       "      <th>cap_combustivel</th>\n",
       "      <th>eficiencia</th>\n",
       "      <th>ultima_versao</th>\n",
       "      <th>power_perf_factor</th>\n",
       "      <th>milhagem</th>\n",
       "    </tr>\n",
       "  </thead>\n",
       "  <tbody>\n",
       "    <tr>\n",
       "      <th>0</th>\n",
       "      <td>Acura</td>\n",
       "      <td>Integra</td>\n",
       "      <td>Passenger</td>\n",
       "      <td>21.50</td>\n",
       "      <td>1.8</td>\n",
       "      <td>140</td>\n",
       "      <td>101.2</td>\n",
       "      <td>67.3</td>\n",
       "      <td>172.4</td>\n",
       "      <td>2.639</td>\n",
       "      <td>13.2</td>\n",
       "      <td>28.0</td>\n",
       "      <td>2/2/2012</td>\n",
       "      <td>58.280150</td>\n",
       "      <td>46434</td>\n",
       "    </tr>\n",
       "    <tr>\n",
       "      <th>1</th>\n",
       "      <td>Acura</td>\n",
       "      <td>TL</td>\n",
       "      <td>Passenger</td>\n",
       "      <td>28.40</td>\n",
       "      <td>3.2</td>\n",
       "      <td>225</td>\n",
       "      <td>108.1</td>\n",
       "      <td>70.3</td>\n",
       "      <td>192.9</td>\n",
       "      <td>3.517</td>\n",
       "      <td>17.2</td>\n",
       "      <td>25.0</td>\n",
       "      <td>6/3/2011</td>\n",
       "      <td>91.370778</td>\n",
       "      <td>28892</td>\n",
       "    </tr>\n",
       "    <tr>\n",
       "      <th>2</th>\n",
       "      <td>Acura</td>\n",
       "      <td>CL</td>\n",
       "      <td>Passenger</td>\n",
       "      <td>0.00</td>\n",
       "      <td>3.2</td>\n",
       "      <td>225</td>\n",
       "      <td>106.9</td>\n",
       "      <td>70.6</td>\n",
       "      <td>192.0</td>\n",
       "      <td>3.470</td>\n",
       "      <td>17.2</td>\n",
       "      <td>26.0</td>\n",
       "      <td>1/4/2012</td>\n",
       "      <td>0.000000</td>\n",
       "      <td>28892</td>\n",
       "    </tr>\n",
       "    <tr>\n",
       "      <th>3</th>\n",
       "      <td>Acura</td>\n",
       "      <td>RL</td>\n",
       "      <td>Passenger</td>\n",
       "      <td>42.00</td>\n",
       "      <td>3.5</td>\n",
       "      <td>210</td>\n",
       "      <td>114.6</td>\n",
       "      <td>71.4</td>\n",
       "      <td>196.6</td>\n",
       "      <td>3.850</td>\n",
       "      <td>18.0</td>\n",
       "      <td>22.0</td>\n",
       "      <td>3/10/2011</td>\n",
       "      <td>91.389779</td>\n",
       "      <td>30956</td>\n",
       "    </tr>\n",
       "    <tr>\n",
       "      <th>4</th>\n",
       "      <td>Audi</td>\n",
       "      <td>A4</td>\n",
       "      <td>Passenger</td>\n",
       "      <td>23.99</td>\n",
       "      <td>1.8</td>\n",
       "      <td>150</td>\n",
       "      <td>102.6</td>\n",
       "      <td>68.2</td>\n",
       "      <td>178.0</td>\n",
       "      <td>2.998</td>\n",
       "      <td>16.4</td>\n",
       "      <td>27.0</td>\n",
       "      <td>10/8/2011</td>\n",
       "      <td>62.777639</td>\n",
       "      <td>43338</td>\n",
       "    </tr>\n",
       "  </tbody>\n",
       "</table>\n",
       "</div>"
      ],
      "text/plain": [
       "  fabricante   modelo tipo_veiculo  preco  tamanho_motor  potencia  \\\n",
       "0      Acura  Integra    Passenger  21.50            1.8       140   \n",
       "1      Acura       TL    Passenger  28.40            3.2       225   \n",
       "2      Acura       CL    Passenger   0.00            3.2       225   \n",
       "3      Acura       RL    Passenger  42.00            3.5       210   \n",
       "4       Audi       A4    Passenger  23.99            1.8       150   \n",
       "\n",
       "   entre_eixos  largura  comprimento   peso  cap_combustivel  eficiencia  \\\n",
       "0        101.2     67.3        172.4  2.639             13.2        28.0   \n",
       "1        108.1     70.3        192.9  3.517             17.2        25.0   \n",
       "2        106.9     70.6        192.0  3.470             17.2        26.0   \n",
       "3        114.6     71.4        196.6  3.850             18.0        22.0   \n",
       "4        102.6     68.2        178.0  2.998             16.4        27.0   \n",
       "\n",
       "  ultima_versao  power_perf_factor  milhagem  \n",
       "0      2/2/2012          58.280150     46434  \n",
       "1      6/3/2011          91.370778     28892  \n",
       "2      1/4/2012           0.000000     28892  \n",
       "3     3/10/2011          91.389779     30956  \n",
       "4     10/8/2011          62.777639     43338  "
      ]
     },
     "execution_count": 30,
     "metadata": {},
     "output_type": "execute_result"
    }
   ],
   "source": [
    "df.fillna(0).head()"
   ]
  },
  {
   "cell_type": "code",
   "execution_count": 31,
   "metadata": {},
   "outputs": [
    {
     "name": "stderr",
     "output_type": "stream",
     "text": [
      "C:\\Users\\PC\\AppData\\Local\\Temp\\ipykernel_1968\\107553638.py:1: FutureWarning: DataFrame.interpolate with object dtype is deprecated and will raise in a future version. Call obj.infer_objects(copy=False) before interpolating instead.\n",
      "  df.fillna(df.interpolate()).head()\n"
     ]
    },
    {
     "data": {
      "text/html": [
       "<div>\n",
       "<style scoped>\n",
       "    .dataframe tbody tr th:only-of-type {\n",
       "        vertical-align: middle;\n",
       "    }\n",
       "\n",
       "    .dataframe tbody tr th {\n",
       "        vertical-align: top;\n",
       "    }\n",
       "\n",
       "    .dataframe thead th {\n",
       "        text-align: right;\n",
       "    }\n",
       "</style>\n",
       "<table border=\"1\" class=\"dataframe\">\n",
       "  <thead>\n",
       "    <tr style=\"text-align: right;\">\n",
       "      <th></th>\n",
       "      <th>fabricante</th>\n",
       "      <th>modelo</th>\n",
       "      <th>tipo_veiculo</th>\n",
       "      <th>preco</th>\n",
       "      <th>tamanho_motor</th>\n",
       "      <th>potencia</th>\n",
       "      <th>entre_eixos</th>\n",
       "      <th>largura</th>\n",
       "      <th>comprimento</th>\n",
       "      <th>peso</th>\n",
       "      <th>cap_combustivel</th>\n",
       "      <th>eficiencia</th>\n",
       "      <th>ultima_versao</th>\n",
       "      <th>power_perf_factor</th>\n",
       "      <th>milhagem</th>\n",
       "    </tr>\n",
       "  </thead>\n",
       "  <tbody>\n",
       "    <tr>\n",
       "      <th>0</th>\n",
       "      <td>Acura</td>\n",
       "      <td>Integra</td>\n",
       "      <td>Passenger</td>\n",
       "      <td>21.50</td>\n",
       "      <td>1.8</td>\n",
       "      <td>140</td>\n",
       "      <td>101.2</td>\n",
       "      <td>67.3</td>\n",
       "      <td>172.4</td>\n",
       "      <td>2.639</td>\n",
       "      <td>13.2</td>\n",
       "      <td>28.0</td>\n",
       "      <td>2/2/2012</td>\n",
       "      <td>58.280150</td>\n",
       "      <td>46434</td>\n",
       "    </tr>\n",
       "    <tr>\n",
       "      <th>1</th>\n",
       "      <td>Acura</td>\n",
       "      <td>TL</td>\n",
       "      <td>Passenger</td>\n",
       "      <td>28.40</td>\n",
       "      <td>3.2</td>\n",
       "      <td>225</td>\n",
       "      <td>108.1</td>\n",
       "      <td>70.3</td>\n",
       "      <td>192.9</td>\n",
       "      <td>3.517</td>\n",
       "      <td>17.2</td>\n",
       "      <td>25.0</td>\n",
       "      <td>6/3/2011</td>\n",
       "      <td>91.370778</td>\n",
       "      <td>28892</td>\n",
       "    </tr>\n",
       "    <tr>\n",
       "      <th>2</th>\n",
       "      <td>Acura</td>\n",
       "      <td>CL</td>\n",
       "      <td>Passenger</td>\n",
       "      <td>35.20</td>\n",
       "      <td>3.2</td>\n",
       "      <td>225</td>\n",
       "      <td>106.9</td>\n",
       "      <td>70.6</td>\n",
       "      <td>192.0</td>\n",
       "      <td>3.470</td>\n",
       "      <td>17.2</td>\n",
       "      <td>26.0</td>\n",
       "      <td>1/4/2012</td>\n",
       "      <td>91.380278</td>\n",
       "      <td>28892</td>\n",
       "    </tr>\n",
       "    <tr>\n",
       "      <th>3</th>\n",
       "      <td>Acura</td>\n",
       "      <td>RL</td>\n",
       "      <td>Passenger</td>\n",
       "      <td>42.00</td>\n",
       "      <td>3.5</td>\n",
       "      <td>210</td>\n",
       "      <td>114.6</td>\n",
       "      <td>71.4</td>\n",
       "      <td>196.6</td>\n",
       "      <td>3.850</td>\n",
       "      <td>18.0</td>\n",
       "      <td>22.0</td>\n",
       "      <td>3/10/2011</td>\n",
       "      <td>91.389779</td>\n",
       "      <td>30956</td>\n",
       "    </tr>\n",
       "    <tr>\n",
       "      <th>4</th>\n",
       "      <td>Audi</td>\n",
       "      <td>A4</td>\n",
       "      <td>Passenger</td>\n",
       "      <td>23.99</td>\n",
       "      <td>1.8</td>\n",
       "      <td>150</td>\n",
       "      <td>102.6</td>\n",
       "      <td>68.2</td>\n",
       "      <td>178.0</td>\n",
       "      <td>2.998</td>\n",
       "      <td>16.4</td>\n",
       "      <td>27.0</td>\n",
       "      <td>10/8/2011</td>\n",
       "      <td>62.777639</td>\n",
       "      <td>43338</td>\n",
       "    </tr>\n",
       "  </tbody>\n",
       "</table>\n",
       "</div>"
      ],
      "text/plain": [
       "  fabricante   modelo tipo_veiculo  preco  tamanho_motor  potencia  \\\n",
       "0      Acura  Integra    Passenger  21.50            1.8       140   \n",
       "1      Acura       TL    Passenger  28.40            3.2       225   \n",
       "2      Acura       CL    Passenger  35.20            3.2       225   \n",
       "3      Acura       RL    Passenger  42.00            3.5       210   \n",
       "4       Audi       A4    Passenger  23.99            1.8       150   \n",
       "\n",
       "   entre_eixos  largura comprimento   peso  cap_combustivel  eficiencia  \\\n",
       "0        101.2     67.3       172.4  2.639             13.2        28.0   \n",
       "1        108.1     70.3       192.9  3.517             17.2        25.0   \n",
       "2        106.9     70.6       192.0  3.470             17.2        26.0   \n",
       "3        114.6     71.4       196.6  3.850             18.0        22.0   \n",
       "4        102.6     68.2       178.0  2.998             16.4        27.0   \n",
       "\n",
       "  ultima_versao  power_perf_factor  milhagem  \n",
       "0      2/2/2012          58.280150     46434  \n",
       "1      6/3/2011          91.370778     28892  \n",
       "2      1/4/2012          91.380278     28892  \n",
       "3     3/10/2011          91.389779     30956  \n",
       "4     10/8/2011          62.777639     43338  "
      ]
     },
     "execution_count": 31,
     "metadata": {},
     "output_type": "execute_result"
    }
   ],
   "source": [
    "df.fillna(df.interpolate()).head()"
   ]
  },
  {
   "cell_type": "code",
   "execution_count": 32,
   "metadata": {},
   "outputs": [
    {
     "name": "stderr",
     "output_type": "stream",
     "text": [
      "C:\\Users\\PC\\AppData\\Local\\Temp\\ipykernel_1968\\1894105618.py:6: FutureWarning: DataFrame.interpolate with object dtype is deprecated and will raise in a future version. Call obj.infer_objects(copy=False) before interpolating instead.\n",
      "  df.fillna(df.interpolate(method='linear')).preco[:10].plot(color='green', linewidth=3, ax=grid[1])\n"
     ]
    },
    {
     "data": {
      "text/plain": [
       "<Axes: >"
      ]
     },
     "execution_count": 32,
     "metadata": {},
     "output_type": "execute_result"
    },
    {
     "data": {
      "image/png": "[encoded data removed]",
      "text/plain": [
       "<Figure size 1200x400 with 2 Axes>"
      ]
     },
     "metadata": {},
     "output_type": "display_data"
    }
   ],
   "source": [
    "import matplotlib.pyplot as plt\n",
    "\n",
    "fig, grid = plt.subplots(1, 2, figsize=(12,4))\n",
    "\n",
    "df.preco[:10].plot(color='coral', linewidth=2, ax=grid[0])\n",
    "df.fillna(df.interpolate(method='linear')).preco[:10].plot(color='green', linewidth=3, ax=grid[1])"
   ]
  },
  {
   "cell_type": "code",
   "execution_count": 33,
   "metadata": {},
   "outputs": [
    {
     "data": {
      "text/html": [
       "<div>\n",
       "<style scoped>\n",
       "    .dataframe tbody tr th:only-of-type {\n",
       "        vertical-align: middle;\n",
       "    }\n",
       "\n",
       "    .dataframe tbody tr th {\n",
       "        vertical-align: top;\n",
       "    }\n",
       "\n",
       "    .dataframe thead th {\n",
       "        text-align: right;\n",
       "    }\n",
       "</style>\n",
       "<table border=\"1\" class=\"dataframe\">\n",
       "  <thead>\n",
       "    <tr style=\"text-align: right;\">\n",
       "      <th></th>\n",
       "      <th>fabricante</th>\n",
       "      <th>modelo</th>\n",
       "      <th>tipo_veiculo</th>\n",
       "      <th>preco</th>\n",
       "      <th>tamanho_motor</th>\n",
       "      <th>potencia</th>\n",
       "      <th>entre_eixos</th>\n",
       "      <th>largura</th>\n",
       "      <th>comprimento</th>\n",
       "      <th>peso</th>\n",
       "      <th>cap_combustivel</th>\n",
       "      <th>eficiencia</th>\n",
       "      <th>ultima_versao</th>\n",
       "      <th>power_perf_factor</th>\n",
       "      <th>milhagem</th>\n",
       "    </tr>\n",
       "  </thead>\n",
       "  <tbody>\n",
       "    <tr>\n",
       "      <th>0</th>\n",
       "      <td>Acura</td>\n",
       "      <td>Integra</td>\n",
       "      <td>Passenger</td>\n",
       "      <td>21.50</td>\n",
       "      <td>1.8</td>\n",
       "      <td>140</td>\n",
       "      <td>101.2</td>\n",
       "      <td>67.3</td>\n",
       "      <td>172.4</td>\n",
       "      <td>2.639</td>\n",
       "      <td>13.2</td>\n",
       "      <td>28.0</td>\n",
       "      <td>2/2/2012</td>\n",
       "      <td>58.280150</td>\n",
       "      <td>46434</td>\n",
       "    </tr>\n",
       "    <tr>\n",
       "      <th>1</th>\n",
       "      <td>Acura</td>\n",
       "      <td>TL</td>\n",
       "      <td>Passenger</td>\n",
       "      <td>28.40</td>\n",
       "      <td>3.2</td>\n",
       "      <td>225</td>\n",
       "      <td>108.1</td>\n",
       "      <td>70.3</td>\n",
       "      <td>192.9</td>\n",
       "      <td>3.517</td>\n",
       "      <td>17.2</td>\n",
       "      <td>25.0</td>\n",
       "      <td>6/3/2011</td>\n",
       "      <td>91.370778</td>\n",
       "      <td>28892</td>\n",
       "    </tr>\n",
       "    <tr>\n",
       "      <th>3</th>\n",
       "      <td>Acura</td>\n",
       "      <td>RL</td>\n",
       "      <td>Passenger</td>\n",
       "      <td>42.00</td>\n",
       "      <td>3.5</td>\n",
       "      <td>210</td>\n",
       "      <td>114.6</td>\n",
       "      <td>71.4</td>\n",
       "      <td>196.6</td>\n",
       "      <td>3.850</td>\n",
       "      <td>18.0</td>\n",
       "      <td>22.0</td>\n",
       "      <td>3/10/2011</td>\n",
       "      <td>91.389779</td>\n",
       "      <td>30956</td>\n",
       "    </tr>\n",
       "    <tr>\n",
       "      <th>4</th>\n",
       "      <td>Audi</td>\n",
       "      <td>A4</td>\n",
       "      <td>Passenger</td>\n",
       "      <td>23.99</td>\n",
       "      <td>1.8</td>\n",
       "      <td>150</td>\n",
       "      <td>102.6</td>\n",
       "      <td>68.2</td>\n",
       "      <td>178.0</td>\n",
       "      <td>2.998</td>\n",
       "      <td>16.4</td>\n",
       "      <td>27.0</td>\n",
       "      <td>10/8/2011</td>\n",
       "      <td>62.777639</td>\n",
       "      <td>43338</td>\n",
       "    </tr>\n",
       "    <tr>\n",
       "      <th>5</th>\n",
       "      <td>Audi</td>\n",
       "      <td>A6</td>\n",
       "      <td>Passenger</td>\n",
       "      <td>33.95</td>\n",
       "      <td>2.8</td>\n",
       "      <td>200</td>\n",
       "      <td>108.7</td>\n",
       "      <td>76.1</td>\n",
       "      <td>192.0</td>\n",
       "      <td>3.561</td>\n",
       "      <td>18.5</td>\n",
       "      <td>22.0</td>\n",
       "      <td>8/9/2011</td>\n",
       "      <td>84.565105</td>\n",
       "      <td>32504</td>\n",
       "    </tr>\n",
       "    <tr>\n",
       "      <th>...</th>\n",
       "      <td>...</td>\n",
       "      <td>...</td>\n",
       "      <td>...</td>\n",
       "      <td>...</td>\n",
       "      <td>...</td>\n",
       "      <td>...</td>\n",
       "      <td>...</td>\n",
       "      <td>...</td>\n",
       "      <td>...</td>\n",
       "      <td>...</td>\n",
       "      <td>...</td>\n",
       "      <td>...</td>\n",
       "      <td>...</td>\n",
       "      <td>...</td>\n",
       "      <td>...</td>\n",
       "    </tr>\n",
       "    <tr>\n",
       "      <th>151</th>\n",
       "      <td>Volvo</td>\n",
       "      <td>V40</td>\n",
       "      <td>Passenger</td>\n",
       "      <td>24.40</td>\n",
       "      <td>1.9</td>\n",
       "      <td>160</td>\n",
       "      <td>100.5</td>\n",
       "      <td>67.6</td>\n",
       "      <td>176.6</td>\n",
       "      <td>3.042</td>\n",
       "      <td>15.8</td>\n",
       "      <td>25.0</td>\n",
       "      <td>9/21/2011</td>\n",
       "      <td>66.498812</td>\n",
       "      <td>40630</td>\n",
       "    </tr>\n",
       "    <tr>\n",
       "      <th>152</th>\n",
       "      <td>Volvo</td>\n",
       "      <td>S70</td>\n",
       "      <td>Passenger</td>\n",
       "      <td>27.50</td>\n",
       "      <td>2.4</td>\n",
       "      <td>168</td>\n",
       "      <td>104.9</td>\n",
       "      <td>69.3</td>\n",
       "      <td>185.9</td>\n",
       "      <td>3.208</td>\n",
       "      <td>17.9</td>\n",
       "      <td>25.0</td>\n",
       "      <td>11/24/2012</td>\n",
       "      <td>70.654495</td>\n",
       "      <td>38695</td>\n",
       "    </tr>\n",
       "    <tr>\n",
       "      <th>153</th>\n",
       "      <td>Volvo</td>\n",
       "      <td>V70</td>\n",
       "      <td>Passenger</td>\n",
       "      <td>28.80</td>\n",
       "      <td>2.4</td>\n",
       "      <td>168</td>\n",
       "      <td>104.9</td>\n",
       "      <td>69.3</td>\n",
       "      <td>186.2</td>\n",
       "      <td>3.259</td>\n",
       "      <td>17.9</td>\n",
       "      <td>25.0</td>\n",
       "      <td>6/25/2011</td>\n",
       "      <td>71.155978</td>\n",
       "      <td>38695</td>\n",
       "    </tr>\n",
       "    <tr>\n",
       "      <th>154</th>\n",
       "      <td>Volvo</td>\n",
       "      <td>C70</td>\n",
       "      <td>Passenger</td>\n",
       "      <td>45.50</td>\n",
       "      <td>2.3</td>\n",
       "      <td>236</td>\n",
       "      <td>104.9</td>\n",
       "      <td>71.5</td>\n",
       "      <td>185.7</td>\n",
       "      <td>3.601</td>\n",
       "      <td>18.5</td>\n",
       "      <td>23.0</td>\n",
       "      <td>4/26/2011</td>\n",
       "      <td>101.623357</td>\n",
       "      <td>27545</td>\n",
       "    </tr>\n",
       "    <tr>\n",
       "      <th>155</th>\n",
       "      <td>Volvo</td>\n",
       "      <td>S80</td>\n",
       "      <td>Passenger</td>\n",
       "      <td>36.00</td>\n",
       "      <td>2.9</td>\n",
       "      <td>201</td>\n",
       "      <td>109.9</td>\n",
       "      <td>72.1</td>\n",
       "      <td>189.8</td>\n",
       "      <td>3.600</td>\n",
       "      <td>21.1</td>\n",
       "      <td>24.0</td>\n",
       "      <td>11/14/2011</td>\n",
       "      <td>85.735655</td>\n",
       "      <td>32342</td>\n",
       "    </tr>\n",
       "  </tbody>\n",
       "</table>\n",
       "<p>152 rows × 15 columns</p>\n",
       "</div>"
      ],
      "text/plain": [
       "    fabricante   modelo tipo_veiculo  preco  tamanho_motor  potencia  \\\n",
       "0        Acura  Integra    Passenger  21.50            1.8       140   \n",
       "1        Acura       TL    Passenger  28.40            3.2       225   \n",
       "3        Acura       RL    Passenger  42.00            3.5       210   \n",
       "4         Audi       A4    Passenger  23.99            1.8       150   \n",
       "5         Audi       A6    Passenger  33.95            2.8       200   \n",
       "..         ...      ...          ...    ...            ...       ...   \n",
       "151      Volvo      V40    Passenger  24.40            1.9       160   \n",
       "152      Volvo      S70    Passenger  27.50            2.4       168   \n",
       "153      Volvo      V70    Passenger  28.80            2.4       168   \n",
       "154      Volvo      C70    Passenger  45.50            2.3       236   \n",
       "155      Volvo      S80    Passenger  36.00            2.9       201   \n",
       "\n",
       "     entre_eixos  largura comprimento   peso  cap_combustivel  eficiencia  \\\n",
       "0          101.2     67.3       172.4  2.639             13.2        28.0   \n",
       "1          108.1     70.3       192.9  3.517             17.2        25.0   \n",
       "3          114.6     71.4       196.6  3.850             18.0        22.0   \n",
       "4          102.6     68.2       178.0  2.998             16.4        27.0   \n",
       "5          108.7     76.1       192.0  3.561             18.5        22.0   \n",
       "..           ...      ...         ...    ...              ...         ...   \n",
       "151        100.5     67.6       176.6  3.042             15.8        25.0   \n",
       "152        104.9     69.3       185.9  3.208             17.9        25.0   \n",
       "153        104.9     69.3       186.2  3.259             17.9        25.0   \n",
       "154        104.9     71.5       185.7  3.601             18.5        23.0   \n",
       "155        109.9     72.1       189.8  3.600             21.1        24.0   \n",
       "\n",
       "    ultima_versao  power_perf_factor  milhagem  \n",
       "0        2/2/2012          58.280150     46434  \n",
       "1        6/3/2011          91.370778     28892  \n",
       "3       3/10/2011          91.389779     30956  \n",
       "4       10/8/2011          62.777639     43338  \n",
       "5        8/9/2011          84.565105     32504  \n",
       "..            ...                ...       ...  \n",
       "151     9/21/2011          66.498812     40630  \n",
       "152    11/24/2012          70.654495     38695  \n",
       "153     6/25/2011          71.155978     38695  \n",
       "154     4/26/2011         101.623357     27545  \n",
       "155    11/14/2011          85.735655     32342  \n",
       "\n",
       "[152 rows x 15 columns]"
      ]
     },
     "execution_count": 33,
     "metadata": {},
     "output_type": "execute_result"
    }
   ],
   "source": [
    "#Excluir os valores null...\n",
    "df_limpo = df.dropna()\n",
    "df_limpo"
   ]
  },
  {
   "cell_type": "code",
   "execution_count": 34,
   "metadata": {},
   "outputs": [
    {
     "data": {
      "text/html": [
       "<div>\n",
       "<style scoped>\n",
       "    .dataframe tbody tr th:only-of-type {\n",
       "        vertical-align: middle;\n",
       "    }\n",
       "\n",
       "    .dataframe tbody tr th {\n",
       "        vertical-align: top;\n",
       "    }\n",
       "\n",
       "    .dataframe thead th {\n",
       "        text-align: right;\n",
       "    }\n",
       "</style>\n",
       "<table border=\"1\" class=\"dataframe\">\n",
       "  <thead>\n",
       "    <tr style=\"text-align: right;\">\n",
       "      <th></th>\n",
       "      <th>preco</th>\n",
       "      <th>tamanho_motor</th>\n",
       "      <th>potencia</th>\n",
       "      <th>entre_eixos</th>\n",
       "      <th>largura</th>\n",
       "      <th>peso</th>\n",
       "      <th>cap_combustivel</th>\n",
       "      <th>eficiencia</th>\n",
       "      <th>power_perf_factor</th>\n",
       "      <th>milhagem</th>\n",
       "    </tr>\n",
       "  </thead>\n",
       "  <tbody>\n",
       "    <tr>\n",
       "      <th>count</th>\n",
       "      <td>152.0</td>\n",
       "      <td>152.0</td>\n",
       "      <td>152.0</td>\n",
       "      <td>152.0</td>\n",
       "      <td>152.0</td>\n",
       "      <td>152.0</td>\n",
       "      <td>152.0</td>\n",
       "      <td>152.0</td>\n",
       "      <td>152.0</td>\n",
       "      <td>152.0</td>\n",
       "    </tr>\n",
       "    <tr>\n",
       "      <th>mean</th>\n",
       "      <td>27.8</td>\n",
       "      <td>3.1</td>\n",
       "      <td>189.9</td>\n",
       "      <td>113.1</td>\n",
       "      <td>71.1</td>\n",
       "      <td>3.4</td>\n",
       "      <td>18.0</td>\n",
       "      <td>23.8</td>\n",
       "      <td>76.7</td>\n",
       "      <td>38553.7</td>\n",
       "    </tr>\n",
       "    <tr>\n",
       "      <th>std</th>\n",
       "      <td>15.6</td>\n",
       "      <td>1.2</td>\n",
       "      <td>87.1</td>\n",
       "      <td>72.8</td>\n",
       "      <td>3.5</td>\n",
       "      <td>0.6</td>\n",
       "      <td>3.9</td>\n",
       "      <td>4.3</td>\n",
       "      <td>25.2</td>\n",
       "      <td>12626.6</td>\n",
       "    </tr>\n",
       "    <tr>\n",
       "      <th>min</th>\n",
       "      <td>9.2</td>\n",
       "      <td>1.0</td>\n",
       "      <td>55.0</td>\n",
       "      <td>92.6</td>\n",
       "      <td>62.6</td>\n",
       "      <td>1.9</td>\n",
       "      <td>10.3</td>\n",
       "      <td>15.0</td>\n",
       "      <td>23.3</td>\n",
       "      <td>14446.0</td>\n",
       "    </tr>\n",
       "    <tr>\n",
       "      <th>25%</th>\n",
       "      <td>17.9</td>\n",
       "      <td>2.3</td>\n",
       "      <td>147.5</td>\n",
       "      <td>102.9</td>\n",
       "      <td>68.4</td>\n",
       "      <td>3.0</td>\n",
       "      <td>15.8</td>\n",
       "      <td>21.0</td>\n",
       "      <td>59.8</td>\n",
       "      <td>30776.0</td>\n",
       "    </tr>\n",
       "    <tr>\n",
       "      <th>50%</th>\n",
       "      <td>22.7</td>\n",
       "      <td>3.0</td>\n",
       "      <td>175.0</td>\n",
       "      <td>107.0</td>\n",
       "      <td>70.4</td>\n",
       "      <td>3.3</td>\n",
       "      <td>17.2</td>\n",
       "      <td>24.0</td>\n",
       "      <td>71.5</td>\n",
       "      <td>37147.0</td>\n",
       "    </tr>\n",
       "    <tr>\n",
       "      <th>75%</th>\n",
       "      <td>32.3</td>\n",
       "      <td>3.6</td>\n",
       "      <td>211.2</td>\n",
       "      <td>112.2</td>\n",
       "      <td>73.1</td>\n",
       "      <td>3.8</td>\n",
       "      <td>19.8</td>\n",
       "      <td>26.0</td>\n",
       "      <td>89.4</td>\n",
       "      <td>44074.5</td>\n",
       "    </tr>\n",
       "    <tr>\n",
       "      <th>max</th>\n",
       "      <td>100.0</td>\n",
       "      <td>9.9</td>\n",
       "      <td>999.0</td>\n",
       "      <td>999.9</td>\n",
       "      <td>79.9</td>\n",
       "      <td>5.6</td>\n",
       "      <td>32.0</td>\n",
       "      <td>45.0</td>\n",
       "      <td>188.1</td>\n",
       "      <td>118196.0</td>\n",
       "    </tr>\n",
       "  </tbody>\n",
       "</table>\n",
       "</div>"
      ],
      "text/plain": [
       "       preco  tamanho_motor  potencia  entre_eixos  largura   peso  \\\n",
       "count  152.0          152.0     152.0        152.0    152.0  152.0   \n",
       "mean    27.8            3.1     189.9        113.1     71.1    3.4   \n",
       "std     15.6            1.2      87.1         72.8      3.5    0.6   \n",
       "min      9.2            1.0      55.0         92.6     62.6    1.9   \n",
       "25%     17.9            2.3     147.5        102.9     68.4    3.0   \n",
       "50%     22.7            3.0     175.0        107.0     70.4    3.3   \n",
       "75%     32.3            3.6     211.2        112.2     73.1    3.8   \n",
       "max    100.0            9.9     999.0        999.9     79.9    5.6   \n",
       "\n",
       "       cap_combustivel  eficiencia  power_perf_factor  milhagem  \n",
       "count            152.0       152.0              152.0     152.0  \n",
       "mean              18.0        23.8               76.7   38553.7  \n",
       "std                3.9         4.3               25.2   12626.6  \n",
       "min               10.3        15.0               23.3   14446.0  \n",
       "25%               15.8        21.0               59.8   30776.0  \n",
       "50%               17.2        24.0               71.5   37147.0  \n",
       "75%               19.8        26.0               89.4   44074.5  \n",
       "max               32.0        45.0              188.1  118196.0  "
      ]
     },
     "execution_count": 34,
     "metadata": {},
     "output_type": "execute_result"
    }
   ],
   "source": [
    "#Describe para fazer calculos em todas as colunas e trazer alguns valores importante...\n",
    "df_limpo.describe().round(1)"
   ]
  },
  {
   "cell_type": "code",
   "execution_count": 35,
   "metadata": {},
   "outputs": [
    {
     "data": {
      "text/html": [
       "<div>\n",
       "<style scoped>\n",
       "    .dataframe tbody tr th:only-of-type {\n",
       "        vertical-align: middle;\n",
       "    }\n",
       "\n",
       "    .dataframe tbody tr th {\n",
       "        vertical-align: top;\n",
       "    }\n",
       "\n",
       "    .dataframe thead th {\n",
       "        text-align: right;\n",
       "    }\n",
       "</style>\n",
       "<table border=\"1\" class=\"dataframe\">\n",
       "  <thead>\n",
       "    <tr style=\"text-align: right;\">\n",
       "      <th></th>\n",
       "      <th>fabricante</th>\n",
       "      <th>modelo</th>\n",
       "      <th>tipo_veiculo</th>\n",
       "      <th>comprimento</th>\n",
       "      <th>ultima_versao</th>\n",
       "    </tr>\n",
       "  </thead>\n",
       "  <tbody>\n",
       "    <tr>\n",
       "      <th>count</th>\n",
       "      <td>152</td>\n",
       "      <td>152</td>\n",
       "      <td>152</td>\n",
       "      <td>152.0</td>\n",
       "      <td>152</td>\n",
       "    </tr>\n",
       "    <tr>\n",
       "      <th>unique</th>\n",
       "      <td>30</td>\n",
       "      <td>151</td>\n",
       "      <td>2</td>\n",
       "      <td>124.0</td>\n",
       "      <td>127</td>\n",
       "    </tr>\n",
       "    <tr>\n",
       "      <th>top</th>\n",
       "      <td>Ford</td>\n",
       "      <td>Neon</td>\n",
       "      <td>Passenger</td>\n",
       "      <td>186.3</td>\n",
       "      <td>2/23/2012</td>\n",
       "    </tr>\n",
       "    <tr>\n",
       "      <th>freq</th>\n",
       "      <td>11</td>\n",
       "      <td>2</td>\n",
       "      <td>112</td>\n",
       "      <td>4.0</td>\n",
       "      <td>2</td>\n",
       "    </tr>\n",
       "  </tbody>\n",
       "</table>\n",
       "</div>"
      ],
      "text/plain": [
       "       fabricante modelo tipo_veiculo  comprimento ultima_versao\n",
       "count         152    152          152        152.0           152\n",
       "unique         30    151            2        124.0           127\n",
       "top          Ford   Neon    Passenger        186.3     2/23/2012\n",
       "freq           11      2          112          4.0             2"
      ]
     },
     "execution_count": 35,
     "metadata": {},
     "output_type": "execute_result"
    }
   ],
   "source": [
    "#Describe em colunas categoricas...\n",
    "df_limpo.describe(include='object')"
   ]
  },
  {
   "cell_type": "code",
   "execution_count": 36,
   "metadata": {},
   "outputs": [
    {
     "data": {
      "text/html": [
       "<div>\n",
       "<style scoped>\n",
       "    .dataframe tbody tr th:only-of-type {\n",
       "        vertical-align: middle;\n",
       "    }\n",
       "\n",
       "    .dataframe tbody tr th {\n",
       "        vertical-align: top;\n",
       "    }\n",
       "\n",
       "    .dataframe thead th {\n",
       "        text-align: right;\n",
       "    }\n",
       "</style>\n",
       "<table border=\"1\" class=\"dataframe\">\n",
       "  <thead>\n",
       "    <tr style=\"text-align: right;\">\n",
       "      <th></th>\n",
       "      <th>fabricante</th>\n",
       "      <th>modelo</th>\n",
       "      <th>tipo_veiculo</th>\n",
       "      <th>preco</th>\n",
       "      <th>tamanho_motor</th>\n",
       "      <th>potencia</th>\n",
       "      <th>entre_eixos</th>\n",
       "      <th>largura</th>\n",
       "      <th>comprimento</th>\n",
       "      <th>peso</th>\n",
       "      <th>cap_combustivel</th>\n",
       "      <th>eficiencia</th>\n",
       "      <th>ultima_versao</th>\n",
       "      <th>power_perf_factor</th>\n",
       "      <th>milhagem</th>\n",
       "    </tr>\n",
       "  </thead>\n",
       "  <tbody>\n",
       "    <tr>\n",
       "      <th>55</th>\n",
       "      <td>Ford</td>\n",
       "      <td>F-Series</td>\n",
       "      <td>Car</td>\n",
       "      <td>99.999</td>\n",
       "      <td>9.9</td>\n",
       "      <td>999</td>\n",
       "      <td>999.9</td>\n",
       "      <td>79.1</td>\n",
       "      <td>224.5</td>\n",
       "      <td>4.241</td>\n",
       "      <td>25.1</td>\n",
       "      <td>18.0</td>\n",
       "      <td>8/16/2012</td>\n",
       "      <td>89.401935</td>\n",
       "      <td>29549</td>\n",
       "    </tr>\n",
       "  </tbody>\n",
       "</table>\n",
       "</div>"
      ],
      "text/plain": [
       "   fabricante    modelo tipo_veiculo   preco  tamanho_motor  potencia  \\\n",
       "55       Ford  F-Series          Car  99.999            9.9       999   \n",
       "\n",
       "    entre_eixos  largura comprimento   peso  cap_combustivel  eficiencia  \\\n",
       "55        999.9     79.1       224.5  4.241             25.1        18.0   \n",
       "\n",
       "   ultima_versao  power_perf_factor  milhagem  \n",
       "55     8/16/2012          89.401935     29549  "
      ]
     },
     "execution_count": 36,
     "metadata": {},
     "output_type": "execute_result"
    }
   ],
   "source": [
    "df_limpo.query('potencia > 900')"
   ]
  },
  {
   "cell_type": "code",
   "execution_count": 37,
   "metadata": {},
   "outputs": [
    {
     "name": "stderr",
     "output_type": "stream",
     "text": [
      "C:\\Users\\PC\\AppData\\Local\\Temp\\ipykernel_1968\\4205434381.py:2: SettingWithCopyWarning: \n",
      "A value is trying to be set on a copy of a slice from a DataFrame\n",
      "\n",
      "See the caveats in the documentation: https://pandas.pydata.org/pandas-docs/stable/user_guide/indexing.html#returning-a-view-versus-a-copy\n",
      "  df_limpo.drop([55], axis=0, inplace=True)\n"
     ]
    }
   ],
   "source": [
    "#Apagando a linha 55 do dataframe por isso axis=0...\n",
    "df_limpo.drop([55], axis=0, inplace=True)"
   ]
  },
  {
   "cell_type": "code",
   "execution_count": 38,
   "metadata": {},
   "outputs": [],
   "source": [
    "#Salvando o df_limpo em um arquivo.csv\n",
    "df_limpo.to_csv('Cars-limpo.csv', index=False, sep=';')"
   ]
  },
  {
   "cell_type": "code",
   "execution_count": 39,
   "metadata": {},
   "outputs": [
    {
     "data": {
      "text/plain": [
       "fabricante\n",
       "Hyundai       12.165667\n",
       "Saturn        14.271000\n",
       "Volkswagen    17.698333\n",
       "Chevrolet     20.022778\n",
       "Honda         20.277000\n",
       "Name: preco, dtype: float64"
      ]
     },
     "execution_count": 39,
     "metadata": {},
     "output_type": "execute_result"
    }
   ],
   "source": [
    "#Agrupando os fabricantes e tirando a media dos preços...\n",
    "df_limpo.groupby('fabricante').preco.mean().sort_values().head()"
   ]
  },
  {
   "cell_type": "code",
   "execution_count": 40,
   "metadata": {},
   "outputs": [
    {
     "data": {
      "text/plain": [
       "fabricante\n",
       "Porsche       62.473333\n",
       "Mercedes-B    52.916667\n",
       "Lexus         44.055000\n",
       "Jaguar        42.800000\n",
       "Lincoln       41.690000\n",
       "Name: preco, dtype: float64"
      ]
     },
     "execution_count": 40,
     "metadata": {},
     "output_type": "execute_result"
    }
   ],
   "source": [
    "#Agrupando os fabricantes e tirando a media dos preços...\n",
    "df_limpo.groupby('fabricante')['preco'].mean().sort_values(ascending=False).head()"
   ]
  },
  {
   "cell_type": "code",
   "execution_count": 41,
   "metadata": {},
   "outputs": [
    {
     "data": {
      "text/html": [
       "<div>\n",
       "<style scoped>\n",
       "    .dataframe tbody tr th:only-of-type {\n",
       "        vertical-align: middle;\n",
       "    }\n",
       "\n",
       "    .dataframe tbody tr th {\n",
       "        vertical-align: top;\n",
       "    }\n",
       "\n",
       "    .dataframe thead tr th {\n",
       "        text-align: left;\n",
       "    }\n",
       "\n",
       "    .dataframe thead tr:last-of-type th {\n",
       "        text-align: right;\n",
       "    }\n",
       "</style>\n",
       "<table border=\"1\" class=\"dataframe\">\n",
       "  <thead>\n",
       "    <tr>\n",
       "      <th></th>\n",
       "      <th colspan=\"2\" halign=\"left\">preco</th>\n",
       "      <th>potencia</th>\n",
       "      <th>eficiencia</th>\n",
       "      <th>milhagem</th>\n",
       "    </tr>\n",
       "    <tr>\n",
       "      <th></th>\n",
       "      <th>mean</th>\n",
       "      <th>min</th>\n",
       "      <th>mean</th>\n",
       "      <th>mean</th>\n",
       "      <th>mean</th>\n",
       "    </tr>\n",
       "    <tr>\n",
       "      <th>fabricante</th>\n",
       "      <th></th>\n",
       "      <th></th>\n",
       "      <th></th>\n",
       "      <th></th>\n",
       "      <th></th>\n",
       "    </tr>\n",
       "  </thead>\n",
       "  <tbody>\n",
       "    <tr>\n",
       "      <th>Hyundai</th>\n",
       "      <td>12.165667</td>\n",
       "      <td>9.699</td>\n",
       "      <td>126.666667</td>\n",
       "      <td>27.666667</td>\n",
       "      <td>53672.666667</td>\n",
       "    </tr>\n",
       "    <tr>\n",
       "      <th>Saturn</th>\n",
       "      <td>14.271000</td>\n",
       "      <td>10.685</td>\n",
       "      <td>119.600000</td>\n",
       "      <td>30.400000</td>\n",
       "      <td>55468.600000</td>\n",
       "    </tr>\n",
       "    <tr>\n",
       "      <th>Volkswagen</th>\n",
       "      <td>17.698333</td>\n",
       "      <td>14.900</td>\n",
       "      <td>120.833333</td>\n",
       "      <td>26.166667</td>\n",
       "      <td>54329.666667</td>\n",
       "    </tr>\n",
       "    <tr>\n",
       "      <th>Chevrolet</th>\n",
       "      <td>20.022778</td>\n",
       "      <td>9.235</td>\n",
       "      <td>171.111111</td>\n",
       "      <td>28.444444</td>\n",
       "      <td>47540.000000</td>\n",
       "    </tr>\n",
       "    <tr>\n",
       "      <th>Honda</th>\n",
       "      <td>20.277000</td>\n",
       "      <td>12.885</td>\n",
       "      <td>160.400000</td>\n",
       "      <td>25.000000</td>\n",
       "      <td>43335.000000</td>\n",
       "    </tr>\n",
       "    <tr>\n",
       "      <th>Ford</th>\n",
       "      <td>20.458500</td>\n",
       "      <td>12.050</td>\n",
       "      <td>165.100000</td>\n",
       "      <td>23.300000</td>\n",
       "      <td>42275.900000</td>\n",
       "    </tr>\n",
       "    <tr>\n",
       "      <th>Mercury</th>\n",
       "      <td>20.748333</td>\n",
       "      <td>16.240</td>\n",
       "      <td>163.833333</td>\n",
       "      <td>23.666667</td>\n",
       "      <td>41366.666667</td>\n",
       "    </tr>\n",
       "    <tr>\n",
       "      <th>Jeep</th>\n",
       "      <td>20.991667</td>\n",
       "      <td>14.460</td>\n",
       "      <td>168.333333</td>\n",
       "      <td>18.666667</td>\n",
       "      <td>40574.666667</td>\n",
       "    </tr>\n",
       "    <tr>\n",
       "      <th>Subaru</th>\n",
       "      <td>21.395000</td>\n",
       "      <td>20.095</td>\n",
       "      <td>165.000000</td>\n",
       "      <td>24.500000</td>\n",
       "      <td>39398.000000</td>\n",
       "    </tr>\n",
       "    <tr>\n",
       "      <th>Toyota</th>\n",
       "      <td>21.982889</td>\n",
       "      <td>11.528</td>\n",
       "      <td>160.666667</td>\n",
       "      <td>25.222222</td>\n",
       "      <td>42502.111111</td>\n",
       "    </tr>\n",
       "  </tbody>\n",
       "</table>\n",
       "</div>"
      ],
      "text/plain": [
       "                preco            potencia eficiencia      milhagem\n",
       "                 mean     min        mean       mean          mean\n",
       "fabricante                                                        \n",
       "Hyundai     12.165667   9.699  126.666667  27.666667  53672.666667\n",
       "Saturn      14.271000  10.685  119.600000  30.400000  55468.600000\n",
       "Volkswagen  17.698333  14.900  120.833333  26.166667  54329.666667\n",
       "Chevrolet   20.022778   9.235  171.111111  28.444444  47540.000000\n",
       "Honda       20.277000  12.885  160.400000  25.000000  43335.000000\n",
       "Ford        20.458500  12.050  165.100000  23.300000  42275.900000\n",
       "Mercury     20.748333  16.240  163.833333  23.666667  41366.666667\n",
       "Jeep        20.991667  14.460  168.333333  18.666667  40574.666667\n",
       "Subaru      21.395000  20.095  165.000000  24.500000  39398.000000\n",
       "Toyota      21.982889  11.528  160.666667  25.222222  42502.111111"
      ]
     },
     "execution_count": 41,
     "metadata": {},
     "output_type": "execute_result"
    }
   ],
   "source": [
    "#Agrupando os fabricantes e tirando a media das colunas numéricas usando o .agg\n",
    "df_limpo.groupby('fabricante').agg({\n",
    "    'preco':['mean', 'min'],\n",
    "    'potencia':'mean',\n",
    "    'eficiencia':'mean',\n",
    "    'milhagem':'mean'\n",
    "}).sort_values(by=('preco', 'mean')).head(10)"
   ]
  },
  {
   "cell_type": "code",
   "execution_count": 42,
   "metadata": {},
   "outputs": [],
   "source": [
    "import seaborn as sns\n",
    "import matplotlib.pyplot as plt"
   ]
  },
  {
   "cell_type": "code",
   "execution_count": 43,
   "metadata": {},
   "outputs": [
    {
     "data": {
      "text/plain": [
       "<matplotlib.collections.LineCollection at 0x1d757d4f890>"
      ]
     },
     "execution_count": 43,
     "metadata": {},
     "output_type": "execute_result"
    },
    {
     "data": {
      "image/png": "[encoded data removed]",
      "text/plain": [
       "<Figure size 2500x900 with 1 Axes>"
      ]
     },
     "metadata": {},
     "output_type": "display_data"
    }
   ],
   "source": [
    "#Configurando o tamanho da figura...\n",
    "plt.figure(figsize=(25,9))\n",
    "\n",
    "#Criar uma ordem de plotagem para o eixo X, do preço médio mais baixo para o mais alto...\n",
    "#Agrupamos os fabricantes por preço médio, ordenamos e coletamos os índices...\n",
    "ordem = df_limpo.groupby('fabricante').preco.mean().sort_values().index\n",
    "\n",
    "#Visualizar o boxplot dos preços de cada fabricantes...\n",
    "g1 = sns.boxplot(data=df_limpo, x='fabricante', y='preco', order=ordem, color='black')\n",
    "\n",
    "plt.xticks(rotation=30)\n",
    "\n",
    "plt.hlines(y=25, xmin=0, xmax=len(ordem), linestyles='--', color='orangered', alpha=0.4)"
   ]
  },
  {
   "cell_type": "code",
   "execution_count": 44,
   "metadata": {},
   "outputs": [
    {
     "data": {
      "text/html": [
       "<div>\n",
       "<style scoped>\n",
       "    .dataframe tbody tr th:only-of-type {\n",
       "        vertical-align: middle;\n",
       "    }\n",
       "\n",
       "    .dataframe tbody tr th {\n",
       "        vertical-align: top;\n",
       "    }\n",
       "\n",
       "    .dataframe thead th {\n",
       "        text-align: right;\n",
       "    }\n",
       "</style>\n",
       "<table border=\"1\" class=\"dataframe\">\n",
       "  <thead>\n",
       "    <tr style=\"text-align: right;\">\n",
       "      <th></th>\n",
       "      <th>fabricante</th>\n",
       "      <th>modelo</th>\n",
       "      <th>tipo_veiculo</th>\n",
       "      <th>preco</th>\n",
       "      <th>tamanho_motor</th>\n",
       "      <th>potencia</th>\n",
       "      <th>entre_eixos</th>\n",
       "      <th>largura</th>\n",
       "      <th>comprimento</th>\n",
       "      <th>peso</th>\n",
       "      <th>cap_combustivel</th>\n",
       "      <th>eficiencia</th>\n",
       "      <th>ultima_versao</th>\n",
       "      <th>power_perf_factor</th>\n",
       "      <th>milhagem</th>\n",
       "    </tr>\n",
       "  </thead>\n",
       "  <tbody>\n",
       "    <tr>\n",
       "      <th>26</th>\n",
       "      <td>Chevrolet</td>\n",
       "      <td>Metro</td>\n",
       "      <td>Passenger</td>\n",
       "      <td>9.235</td>\n",
       "      <td>1.0</td>\n",
       "      <td>55</td>\n",
       "      <td>93.1</td>\n",
       "      <td>62.6</td>\n",
       "      <td>149.4</td>\n",
       "      <td>1.895</td>\n",
       "      <td>10.3</td>\n",
       "      <td>45.0</td>\n",
       "      <td>4/13/2012</td>\n",
       "      <td>23.276272</td>\n",
       "      <td>118196</td>\n",
       "    </tr>\n",
       "    <tr>\n",
       "      <th>61</th>\n",
       "      <td>Hyundai</td>\n",
       "      <td>Accent</td>\n",
       "      <td>Passenger</td>\n",
       "      <td>9.699</td>\n",
       "      <td>1.5</td>\n",
       "      <td>92</td>\n",
       "      <td>96.1</td>\n",
       "      <td>65.7</td>\n",
       "      <td>166.7</td>\n",
       "      <td>2.240</td>\n",
       "      <td>11.9</td>\n",
       "      <td>31.0</td>\n",
       "      <td>9/10/2012</td>\n",
       "      <td>36.672284</td>\n",
       "      <td>70660</td>\n",
       "    </tr>\n",
       "    <tr>\n",
       "      <th>128</th>\n",
       "      <td>Saturn</td>\n",
       "      <td>SL</td>\n",
       "      <td>Passenger</td>\n",
       "      <td>10.685</td>\n",
       "      <td>1.9</td>\n",
       "      <td>100</td>\n",
       "      <td>102.4</td>\n",
       "      <td>66.4</td>\n",
       "      <td>176.9</td>\n",
       "      <td>2.332</td>\n",
       "      <td>12.1</td>\n",
       "      <td>33.0</td>\n",
       "      <td>8/16/2012</td>\n",
       "      <td>39.986425</td>\n",
       "      <td>65008</td>\n",
       "    </tr>\n",
       "    <tr>\n",
       "      <th>139</th>\n",
       "      <td>Toyota</td>\n",
       "      <td>Tacoma</td>\n",
       "      <td>Car</td>\n",
       "      <td>11.528</td>\n",
       "      <td>2.4</td>\n",
       "      <td>142</td>\n",
       "      <td>103.3</td>\n",
       "      <td>66.5</td>\n",
       "      <td>178.7</td>\n",
       "      <td>2.580</td>\n",
       "      <td>15.1</td>\n",
       "      <td>23.0</td>\n",
       "      <td>8/1/2011</td>\n",
       "      <td>55.297117</td>\n",
       "      <td>45780</td>\n",
       "    </tr>\n",
       "    <tr>\n",
       "      <th>62</th>\n",
       "      <td>Hyundai</td>\n",
       "      <td>Elantra</td>\n",
       "      <td>Passenger</td>\n",
       "      <td>11.799</td>\n",
       "      <td>2.0</td>\n",
       "      <td>140</td>\n",
       "      <td>100.4</td>\n",
       "      <td>66.9</td>\n",
       "      <td>174.0</td>\n",
       "      <td>2.626</td>\n",
       "      <td>14.5</td>\n",
       "      <td>27.0</td>\n",
       "      <td>11/15/2011</td>\n",
       "      <td>54.590045</td>\n",
       "      <td>46434</td>\n",
       "    </tr>\n",
       "    <tr>\n",
       "      <th>45</th>\n",
       "      <td>Ford</td>\n",
       "      <td>Escort</td>\n",
       "      <td>Passenger</td>\n",
       "      <td>12.070</td>\n",
       "      <td>2.0</td>\n",
       "      <td>110</td>\n",
       "      <td>98.4</td>\n",
       "      <td>67.0</td>\n",
       "      <td>174.7</td>\n",
       "      <td>2.468</td>\n",
       "      <td>12.7</td>\n",
       "      <td>30.0</td>\n",
       "      <td>3/31/2012</td>\n",
       "      <td>44.083709</td>\n",
       "      <td>59098</td>\n",
       "    </tr>\n",
       "    <tr>\n",
       "      <th>49</th>\n",
       "      <td>Ford</td>\n",
       "      <td>Focus</td>\n",
       "      <td>Passenger</td>\n",
       "      <td>12.315</td>\n",
       "      <td>2.0</td>\n",
       "      <td>107</td>\n",
       "      <td>103.0</td>\n",
       "      <td>66.9</td>\n",
       "      <td>174.8</td>\n",
       "      <td>2.564</td>\n",
       "      <td>13.2</td>\n",
       "      <td>30.0</td>\n",
       "      <td>7/22/2012</td>\n",
       "      <td>43.117132</td>\n",
       "      <td>60755</td>\n",
       "    </tr>\n",
       "    <tr>\n",
       "      <th>129</th>\n",
       "      <td>Saturn</td>\n",
       "      <td>SC</td>\n",
       "      <td>Passenger</td>\n",
       "      <td>12.535</td>\n",
       "      <td>1.9</td>\n",
       "      <td>100</td>\n",
       "      <td>102.4</td>\n",
       "      <td>66.4</td>\n",
       "      <td>180.0</td>\n",
       "      <td>2.367</td>\n",
       "      <td>12.1</td>\n",
       "      <td>33.0</td>\n",
       "      <td>3/16/2011</td>\n",
       "      <td>40.700072</td>\n",
       "      <td>65008</td>\n",
       "    </tr>\n",
       "    <tr>\n",
       "      <th>34</th>\n",
       "      <td>Dodge</td>\n",
       "      <td>Neon</td>\n",
       "      <td>Passenger</td>\n",
       "      <td>12.640</td>\n",
       "      <td>2.0</td>\n",
       "      <td>132</td>\n",
       "      <td>105.0</td>\n",
       "      <td>74.4</td>\n",
       "      <td>174.4</td>\n",
       "      <td>2.567</td>\n",
       "      <td>12.5</td>\n",
       "      <td>29.0</td>\n",
       "      <td>12/12/2011</td>\n",
       "      <td>52.084899</td>\n",
       "      <td>49248</td>\n",
       "    </tr>\n",
       "    <tr>\n",
       "      <th>113</th>\n",
       "      <td>Plymouth</td>\n",
       "      <td>Neon</td>\n",
       "      <td>Passenger</td>\n",
       "      <td>12.640</td>\n",
       "      <td>2.0</td>\n",
       "      <td>132</td>\n",
       "      <td>105.0</td>\n",
       "      <td>74.4</td>\n",
       "      <td>174.4</td>\n",
       "      <td>2.559</td>\n",
       "      <td>12.5</td>\n",
       "      <td>29.0</td>\n",
       "      <td>4/26/2011</td>\n",
       "      <td>52.084899</td>\n",
       "      <td>49248</td>\n",
       "    </tr>\n",
       "  </tbody>\n",
       "</table>\n",
       "</div>"
      ],
      "text/plain": [
       "    fabricante   modelo tipo_veiculo   preco  tamanho_motor  potencia  \\\n",
       "26   Chevrolet    Metro    Passenger   9.235            1.0        55   \n",
       "61     Hyundai   Accent    Passenger   9.699            1.5        92   \n",
       "128     Saturn       SL    Passenger  10.685            1.9       100   \n",
       "139     Toyota   Tacoma          Car  11.528            2.4       142   \n",
       "62     Hyundai  Elantra    Passenger  11.799            2.0       140   \n",
       "45        Ford   Escort    Passenger  12.070            2.0       110   \n",
       "49        Ford    Focus    Passenger  12.315            2.0       107   \n",
       "129     Saturn       SC    Passenger  12.535            1.9       100   \n",
       "34       Dodge     Neon    Passenger  12.640            2.0       132   \n",
       "113   Plymouth     Neon    Passenger  12.640            2.0       132   \n",
       "\n",
       "     entre_eixos  largura comprimento   peso  cap_combustivel  eficiencia  \\\n",
       "26          93.1     62.6       149.4  1.895             10.3        45.0   \n",
       "61          96.1     65.7       166.7  2.240             11.9        31.0   \n",
       "128        102.4     66.4       176.9  2.332             12.1        33.0   \n",
       "139        103.3     66.5       178.7  2.580             15.1        23.0   \n",
       "62         100.4     66.9       174.0  2.626             14.5        27.0   \n",
       "45          98.4     67.0       174.7  2.468             12.7        30.0   \n",
       "49         103.0     66.9       174.8  2.564             13.2        30.0   \n",
       "129        102.4     66.4       180.0  2.367             12.1        33.0   \n",
       "34         105.0     74.4       174.4  2.567             12.5        29.0   \n",
       "113        105.0     74.4       174.4  2.559             12.5        29.0   \n",
       "\n",
       "    ultima_versao  power_perf_factor  milhagem  \n",
       "26      4/13/2012          23.276272    118196  \n",
       "61      9/10/2012          36.672284     70660  \n",
       "128     8/16/2012          39.986425     65008  \n",
       "139      8/1/2011          55.297117     45780  \n",
       "62     11/15/2011          54.590045     46434  \n",
       "45      3/31/2012          44.083709     59098  \n",
       "49      7/22/2012          43.117132     60755  \n",
       "129     3/16/2011          40.700072     65008  \n",
       "34     12/12/2011          52.084899     49248  \n",
       "113     4/26/2011          52.084899     49248  "
      ]
     },
     "execution_count": 44,
     "metadata": {},
     "output_type": "execute_result"
    }
   ],
   "source": [
    "df_filtro = df_limpo.query('preco <= 25 & comprimento <= 190').sort_values(by=['preco', 'potencia', 'eficiencia'])\n",
    "df_filtro.head(10)"
   ]
  },
  {
   "cell_type": "code",
   "execution_count": 45,
   "metadata": {},
   "outputs": [
    {
     "data": {
      "text/plain": [
       "<Axes: xlabel='potencia', ylabel='preco'>"
      ]
     },
     "execution_count": 45,
     "metadata": {},
     "output_type": "execute_result"
    },
    {
     "data": {
      "image/png": "[encoded data removed]",
      "text/plain": [
       "<Figure size 1400x600 with 1 Axes>"
      ]
     },
     "metadata": {},
     "output_type": "display_data"
    }
   ],
   "source": [
    "df_filtro.plot.scatter(\n",
    "    x='potencia',\n",
    "    y='preco',\n",
    "    s='eficiencia',\n",
    "    figsize=(14,6)\n",
    ")"
   ]
  },
  {
   "cell_type": "code",
   "execution_count": 46,
   "metadata": {},
   "outputs": [
    {
     "data": {
      "application/vnd.plotly.v1+json": {
       "config": {
        "plotlyServerURL": "https://plot.ly"
       },
       "data": [
        {
         "customdata": [
          [
           "Chevrolet",
           "Metro"
          ],
          [
           "Hyundai",
           "Accent"
          ],
          [
           "Saturn",
           "SL"
          ],
          [
           "Toyota",
           "Tacoma"
          ],
          [
           "Hyundai",
           "Elantra"
          ],
          [
           "Ford",
           "Escort"
          ],
          [
           "Ford",
           "Focus"
          ],
          [
           "Saturn",
           "SC"
          ],
          [
           "Dodge",
           "Neon"
          ],
          [
           "Plymouth",
           "Neon"
          ],
          [
           "Honda",
           "Civic"
          ],
          [
           "Toyota",
           "Corolla"
          ],
          [
           "Chevrolet",
           "Cavalier"
          ],
          [
           "Nissan",
           "Sentra"
          ],
          [
           "Chevrolet",
           "Prizm"
          ],
          [
           "Mitsubishi",
           "Mirage"
          ],
          [
           "Saturn",
           "SW"
          ],
          [
           "Jeep",
           "Wrangler"
          ],
          [
           "Volkswagen",
           "Golf"
          ],
          [
           "Hyundai",
           "Sonata"
          ],
          [
           "Honda",
           "Accord"
          ],
          [
           "Volkswagen",
           "Beetle"
          ],
          [
           "Plymouth",
           "Breeze"
          ],
          [
           "Mercury",
           "Mystique"
          ],
          [
           "Chrysler",
           "Cirrus"
          ],
          [
           "Mercury",
           "Cougar"
          ],
          [
           "Volkswagen",
           "Jetta"
          ],
          [
           "Toyota",
           "Celica"
          ],
          [
           "Toyota",
           "RAV4"
          ],
          [
           "Ford",
           "Contour"
          ],
          [
           "Mitsubishi",
           "Galant"
          ],
          [
           "Volkswagen",
           "GTI"
          ],
          [
           "Toyota",
           "Camry"
          ],
          [
           "Oldsmobile",
           "Alero"
          ],
          [
           "Plymouth",
           "Voyager"
          ],
          [
           "Mitsubishi",
           "Eclipse"
          ],
          [
           "Dodge",
           "Caravan"
          ],
          [
           "Pontiac",
           "Grand Am"
          ],
          [
           "Volkswagen",
           "Cabrio"
          ],
          [
           "Subaru",
           "Forester"
          ],
          [
           "Dodge",
           "Stratus"
          ],
          [
           "Nissan",
           "Altima"
          ],
          [
           "Honda",
           "CR-V"
          ],
          [
           "Volkswagen",
           "Passat"
          ],
          [
           "Acura",
           "Integra"
          ],
          [
           "Ford",
           "Mustang"
          ],
          [
           "Pontiac",
           "Sunfire"
          ],
          [
           "Jeep",
           "Cherokee"
          ],
          [
           "Toyota",
           "4Runner"
          ],
          [
           "Mitsubishi",
           "Montero Sport"
          ],
          [
           "Subaru",
           "Outback"
          ],
          [
           "Nissan",
           "Xterra"
          ],
          [
           "Volvo",
           "S40"
          ],
          [
           "Audi",
           "A4"
          ],
          [
           "Volvo",
           "V40"
          ]
         ],
         "hovertemplate": "potencia=%{x}<br>preco=%{y}<br>eficiencia=%{marker.color}<br>fabricante=%{customdata[0]}<br>modelo=%{customdata[1]}<extra></extra>",
         "legendgroup": "",
         "marker": {
          "color": [
           45,
           31,
           33,
           23,
           27,
           30,
           30,
           33,
           29,
           29,
           32,
           33,
           27,
           30,
           33,
           30,
           31,
           17,
           26,
           25,
           27,
           26,
           27,
           28,
           27,
           30,
           26,
           31,
           27,
           25,
           25,
           26,
           27,
           27,
           24,
           24,
           24,
           25,
           26,
           24,
           24,
           25,
           24,
           27,
           28,
           24,
           27,
           20,
           23,
           20,
           25,
           18,
           25,
           27,
           25
          ],
          "coloraxis": "coloraxis",
          "size": [
           45,
           31,
           33,
           23,
           27,
           30,
           30,
           33,
           29,
           29,
           32,
           33,
           27,
           30,
           33,
           30,
           31,
           17,
           26,
           25,
           27,
           26,
           27,
           28,
           27,
           30,
           26,
           31,
           27,
           25,
           25,
           26,
           27,
           27,
           24,
           24,
           24,
           25,
           26,
           24,
           24,
           25,
           24,
           27,
           28,
           24,
           27,
           20,
           23,
           20,
           25,
           18,
           25,
           27,
           25
          ],
          "sizemode": "area",
          "sizeref": 0.1125,
          "symbol": "circle"
         },
         "mode": "markers",
         "name": "",
         "orientation": "v",
         "showlegend": false,
         "type": "scatter",
         "x": [
          55,
          92,
          100,
          142,
          140,
          110,
          107,
          100,
          132,
          132,
          106,
          120,
          115,
          126,
          120,
          113,
          124,
          120,
          115,
          148,
          135,
          115,
          132,
          125,
          132,
          125,
          115,
          140,
          127,
          170,
          145,
          115,
          133,
          150,
          150,
          154,
          150,
          175,
          115,
          165,
          168,
          155,
          146,
          150,
          140,
          190,
          150,
          190,
          150,
          173,
          165,
          170,
          160,
          150,
          160
         ],
         "xaxis": "x",
         "y": [
          9.235,
          9.699,
          10.685,
          11.528,
          11.799,
          12.07,
          12.315,
          12.535,
          12.64,
          12.64,
          12.885,
          13.108,
          13.26,
          13.499,
          13.96,
          13.987,
          14.29,
          14.46,
          14.9,
          14.999,
          15.35,
          15.9,
          16.08,
          16.24,
          16.48,
          16.54,
          16.7,
          16.875,
          16.888,
          17.035,
          17.357,
          17.5,
          17.518,
          18.27,
          18.85,
          19.047,
          19.565,
          19.72,
          19.99,
          20.095,
          20.23,
          20.39,
          20.55,
          21.2,
          21.5,
          21.56,
          21.61,
          21.62,
          22.288,
          22.527,
          22.695,
          22.799,
          23.4,
          23.99,
          24.4
         ],
         "yaxis": "y"
        }
       ],
       "layout": {
        "coloraxis": {
         "colorbar": {
          "title": {
           "text": "eficiencia"
          }
         },
         "colorscale": [
          [
           0,
           "#0d0887"
          ],
          [
           0.1111111111111111,
           "#46039f"
          ],
          [
           0.2222222222222222,
           "#7201a8"
          ],
          [
           0.3333333333333333,
           "#9c179e"
          ],
          [
           0.4444444444444444,
           "#bd3786"
          ],
          [
           0.5555555555555556,
           "#d8576b"
          ],
          [
           0.6666666666666666,
           "#ed7953"
          ],
          [
           0.7777777777777778,
           "#fb9f3a"
          ],
          [
           0.8888888888888888,
           "#fdca26"
          ],
          [
           1,
           "#f0f921"
          ]
         ]
        },
        "height": 700,
        "legend": {
         "itemsizing": "constant",
         "tracegroupgap": 0
        },
        "margin": {
         "b": 5,
         "l": 5,
         "r": 5,
         "t": 20
        },
        "template": {
         "data": {
          "bar": [
           {
            "error_x": {
             "color": "#2a3f5f"
            },
            "error_y": {
             "color": "#2a3f5f"
            },
            "marker": {
             "line": {
              "color": "#E5ECF6",
              "width": 0.5
             },
             "pattern": {
              "fillmode": "overlay",
              "size": 10,
              "solidity": 0.2
             }
            },
            "type": "bar"
           }
          ],
          "barpolar": [
           {
            "marker": {
             "line": {
              "color": "#E5ECF6",
              "width": 0.5
             },
             "pattern": {
              "fillmode": "overlay",
              "size": 10,
              "solidity": 0.2
             }
            },
            "type": "barpolar"
           }
          ],
          "carpet": [
           {
            "aaxis": {
             "endlinecolor": "#2a3f5f",
             "gridcolor": "white",
             "linecolor": "white",
             "minorgridcolor": "white",
             "startlinecolor": "#2a3f5f"
            },
            "baxis": {
             "endlinecolor": "#2a3f5f",
             "gridcolor": "white",
             "linecolor": "white",
             "minorgridcolor": "white",
             "startlinecolor": "#2a3f5f"
            },
            "type": "carpet"
           }
          ],
          "choropleth": [
           {
            "colorbar": {
             "outlinewidth": 0,
             "ticks": ""
            },
            "type": "choropleth"
           }
          ],
          "contour": [
           {
            "colorbar": {
             "outlinewidth": 0,
             "ticks": ""
            },
            "colorscale": [
             [
              0,
              "#0d0887"
             ],
             [
              0.1111111111111111,
              "#46039f"
             ],
             [
              0.2222222222222222,
              "#7201a8"
             ],
             [
              0.3333333333333333,
              "#9c179e"
             ],
             [
              0.4444444444444444,
              "#bd3786"
             ],
             [
              0.5555555555555556,
              "#d8576b"
             ],
             [
              0.6666666666666666,
              "#ed7953"
             ],
             [
              0.7777777777777778,
              "#fb9f3a"
             ],
             [
              0.8888888888888888,
              "#fdca26"
             ],
             [
              1,
              "#f0f921"
             ]
            ],
            "type": "contour"
           }
          ],
          "contourcarpet": [
           {
            "colorbar": {
             "outlinewidth": 0,
             "ticks": ""
            },
            "type": "contourcarpet"
           }
          ],
          "heatmap": [
           {
            "colorbar": {
             "outlinewidth": 0,
             "ticks": ""
            },
            "colorscale": [
             [
              0,
              "#0d0887"
             ],
             [
              0.1111111111111111,
              "#46039f"
             ],
             [
              0.2222222222222222,
              "#7201a8"
             ],
             [
              0.3333333333333333,
              "#9c179e"
             ],
             [
              0.4444444444444444,
              "#bd3786"
             ],
             [
              0.5555555555555556,
              "#d8576b"
             ],
             [
              0.6666666666666666,
              "#ed7953"
             ],
             [
              0.7777777777777778,
              "#fb9f3a"
             ],
             [
              0.8888888888888888,
              "#fdca26"
             ],
             [
              1,
              "#f0f921"
             ]
            ],
            "type": "heatmap"
           }
          ],
          "heatmapgl": [
           {
            "colorbar": {
             "outlinewidth": 0,
             "ticks": ""
            },
            "colorscale": [
             [
              0,
              "#0d0887"
             ],
             [
              0.1111111111111111,
              "#46039f"
             ],
             [
              0.2222222222222222,
              "#7201a8"
             ],
             [
              0.3333333333333333,
              "#9c179e"
             ],
             [
              0.4444444444444444,
              "#bd3786"
             ],
             [
              0.5555555555555556,
              "#d8576b"
             ],
             [
              0.6666666666666666,
              "#ed7953"
             ],
             [
              0.7777777777777778,
              "#fb9f3a"
             ],
             [
              0.8888888888888888,
              "#fdca26"
             ],
             [
              1,
              "#f0f921"
             ]
            ],
            "type": "heatmapgl"
           }
          ],
          "histogram": [
           {
            "marker": {
             "pattern": {
              "fillmode": "overlay",
              "size": 10,
              "solidity": 0.2
             }
            },
            "type": "histogram"
           }
          ],
          "histogram2d": [
           {
            "colorbar": {
             "outlinewidth": 0,
             "ticks": ""
            },
            "colorscale": [
             [
              0,
              "#0d0887"
             ],
             [
              0.1111111111111111,
              "#46039f"
             ],
             [
              0.2222222222222222,
              "#7201a8"
             ],
             [
              0.3333333333333333,
              "#9c179e"
             ],
             [
              0.4444444444444444,
              "#bd3786"
             ],
             [
              0.5555555555555556,
              "#d8576b"
             ],
             [
              0.6666666666666666,
              "#ed7953"
             ],
             [
              0.7777777777777778,
              "#fb9f3a"
             ],
             [
              0.8888888888888888,
              "#fdca26"
             ],
             [
              1,
              "#f0f921"
             ]
            ],
            "type": "histogram2d"
           }
          ],
          "histogram2dcontour": [
           {
            "colorbar": {
             "outlinewidth": 0,
             "ticks": ""
            },
            "colorscale": [
             [
              0,
              "#0d0887"
             ],
             [
              0.1111111111111111,
              "#46039f"
             ],
             [
              0.2222222222222222,
              "#7201a8"
             ],
             [
              0.3333333333333333,
              "#9c179e"
             ],
             [
              0.4444444444444444,
              "#bd3786"
             ],
             [
              0.5555555555555556,
              "#d8576b"
             ],
             [
              0.6666666666666666,
              "#ed7953"
             ],
             [
              0.7777777777777778,
              "#fb9f3a"
             ],
             [
              0.8888888888888888,
              "#fdca26"
             ],
             [
              1,
              "#f0f921"
             ]
            ],
            "type": "histogram2dcontour"
           }
          ],
          "mesh3d": [
           {
            "colorbar": {
             "outlinewidth": 0,
             "ticks": ""
            },
            "type": "mesh3d"
           }
          ],
          "parcoords": [
           {
            "line": {
             "colorbar": {
              "outlinewidth": 0,
              "ticks": ""
             }
            },
            "type": "parcoords"
           }
          ],
          "pie": [
           {
            "automargin": true,
            "type": "pie"
           }
          ],
          "scatter": [
           {
            "fillpattern": {
             "fillmode": "overlay",
             "size": 10,
             "solidity": 0.2
            },
            "type": "scatter"
           }
          ],
          "scatter3d": [
           {
            "line": {
             "colorbar": {
              "outlinewidth": 0,
              "ticks": ""
             }
            },
            "marker": {
             "colorbar": {
              "outlinewidth": 0,
              "ticks": ""
             }
            },
            "type": "scatter3d"
           }
          ],
          "scattercarpet": [
           {
            "marker": {
             "colorbar": {
              "outlinewidth": 0,
              "ticks": ""
             }
            },
            "type": "scattercarpet"
           }
          ],
          "scattergeo": [
           {
            "marker": {
             "colorbar": {
              "outlinewidth": 0,
              "ticks": ""
             }
            },
            "type": "scattergeo"
           }
          ],
          "scattergl": [
           {
            "marker": {
             "colorbar": {
              "outlinewidth": 0,
              "ticks": ""
             }
            },
            "type": "scattergl"
           }
          ],
          "scattermapbox": [
           {
            "marker": {
             "colorbar": {
              "outlinewidth": 0,
              "ticks": ""
             }
            },
            "type": "scattermapbox"
           }
          ],
          "scatterpolar": [
           {
            "marker": {
             "colorbar": {
              "outlinewidth": 0,
              "ticks": ""
             }
            },
            "type": "scatterpolar"
           }
          ],
          "scatterpolargl": [
           {
            "marker": {
             "colorbar": {
              "outlinewidth": 0,
              "ticks": ""
             }
            },
            "type": "scatterpolargl"
           }
          ],
          "scatterternary": [
           {
            "marker": {
             "colorbar": {
              "outlinewidth": 0,
              "ticks": ""
             }
            },
            "type": "scatterternary"
           }
          ],
          "surface": [
           {
            "colorbar": {
             "outlinewidth": 0,
             "ticks": ""
            },
            "colorscale": [
             [
              0,
              "#0d0887"
             ],
             [
              0.1111111111111111,
              "#46039f"
             ],
             [
              0.2222222222222222,
              "#7201a8"
             ],
             [
              0.3333333333333333,
              "#9c179e"
             ],
             [
              0.4444444444444444,
              "#bd3786"
             ],
             [
              0.5555555555555556,
              "#d8576b"
             ],
             [
              0.6666666666666666,
              "#ed7953"
             ],
             [
              0.7777777777777778,
              "#fb9f3a"
             ],
             [
              0.8888888888888888,
              "#fdca26"
             ],
             [
              1,
              "#f0f921"
             ]
            ],
            "type": "surface"
           }
          ],
          "table": [
           {
            "cells": {
             "fill": {
              "color": "#EBF0F8"
             },
             "line": {
              "color": "white"
             }
            },
            "header": {
             "fill": {
              "color": "#C8D4E3"
             },
             "line": {
              "color": "white"
             }
            },
            "type": "table"
           }
          ]
         },
         "layout": {
          "annotationdefaults": {
           "arrowcolor": "#2a3f5f",
           "arrowhead": 0,
           "arrowwidth": 1
          },
          "autotypenumbers": "strict",
          "coloraxis": {
           "colorbar": {
            "outlinewidth": 0,
            "ticks": ""
           }
          },
          "colorscale": {
           "diverging": [
            [
             0,
             "#8e0152"
            ],
            [
             0.1,
             "#c51b7d"
            ],
            [
             0.2,
             "#de77ae"
            ],
            [
             0.3,
             "#f1b6da"
            ],
            [
             0.4,
             "#fde0ef"
            ],
            [
             0.5,
             "#f7f7f7"
            ],
            [
             0.6,
             "#e6f5d0"
            ],
            [
             0.7,
             "#b8e186"
            ],
            [
             0.8,
             "#7fbc41"
            ],
            [
             0.9,
             "#4d9221"
            ],
            [
             1,
             "#276419"
            ]
           ],
           "sequential": [
            [
             0,
             "#0d0887"
            ],
            [
             0.1111111111111111,
             "#46039f"
            ],
            [
             0.2222222222222222,
             "#7201a8"
            ],
            [
             0.3333333333333333,
             "#9c179e"
            ],
            [
             0.4444444444444444,
             "#bd3786"
            ],
            [
             0.5555555555555556,
             "#d8576b"
            ],
            [
             0.6666666666666666,
             "#ed7953"
            ],
            [
             0.7777777777777778,
             "#fb9f3a"
            ],
            [
             0.8888888888888888,
             "#fdca26"
            ],
            [
             1,
             "#f0f921"
            ]
           ],
           "sequentialminus": [
            [
             0,
             "#0d0887"
            ],
            [
             0.1111111111111111,
             "#46039f"
            ],
            [
             0.2222222222222222,
             "#7201a8"
            ],
            [
             0.3333333333333333,
             "#9c179e"
            ],
            [
             0.4444444444444444,
             "#bd3786"
            ],
            [
             0.5555555555555556,
             "#d8576b"
            ],
            [
             0.6666666666666666,
             "#ed7953"
            ],
            [
             0.7777777777777778,
             "#fb9f3a"
            ],
            [
             0.8888888888888888,
             "#fdca26"
            ],
            [
             1,
             "#f0f921"
            ]
           ]
          },
          "colorway": [
           "#636efa",
           "#EF553B",
           "#00cc96",
           "#ab63fa",
           "#FFA15A",
           "#19d3f3",
           "#FF6692",
           "#B6E880",
           "#FF97FF",
           "#FECB52"
          ],
          "font": {
           "color": "#2a3f5f"
          },
          "geo": {
           "bgcolor": "white",
           "lakecolor": "white",
           "landcolor": "#E5ECF6",
           "showlakes": true,
           "showland": true,
           "subunitcolor": "white"
          },
          "hoverlabel": {
           "align": "left"
          },
          "hovermode": "closest",
          "mapbox": {
           "style": "light"
          },
          "paper_bgcolor": "white",
          "plot_bgcolor": "#E5ECF6",
          "polar": {
           "angularaxis": {
            "gridcolor": "white",
            "linecolor": "white",
            "ticks": ""
           },
           "bgcolor": "#E5ECF6",
           "radialaxis": {
            "gridcolor": "white",
            "linecolor": "white",
            "ticks": ""
           }
          },
          "scene": {
           "xaxis": {
            "backgroundcolor": "#E5ECF6",
            "gridcolor": "white",
            "gridwidth": 2,
            "linecolor": "white",
            "showbackground": true,
            "ticks": "",
            "zerolinecolor": "white"
           },
           "yaxis": {
            "backgroundcolor": "#E5ECF6",
            "gridcolor": "white",
            "gridwidth": 2,
            "linecolor": "white",
            "showbackground": true,
            "ticks": "",
            "zerolinecolor": "white"
           },
           "zaxis": {
            "backgroundcolor": "#E5ECF6",
            "gridcolor": "white",
            "gridwidth": 2,
            "linecolor": "white",
            "showbackground": true,
            "ticks": "",
            "zerolinecolor": "white"
           }
          },
          "shapedefaults": {
           "line": {
            "color": "#2a3f5f"
           }
          },
          "ternary": {
           "aaxis": {
            "gridcolor": "white",
            "linecolor": "white",
            "ticks": ""
           },
           "baxis": {
            "gridcolor": "white",
            "linecolor": "white",
            "ticks": ""
           },
           "bgcolor": "#E5ECF6",
           "caxis": {
            "gridcolor": "white",
            "linecolor": "white",
            "ticks": ""
           }
          },
          "title": {
           "x": 0.05
          },
          "xaxis": {
           "automargin": true,
           "gridcolor": "white",
           "linecolor": "white",
           "ticks": "",
           "title": {
            "standoff": 15
           },
           "zerolinecolor": "white",
           "zerolinewidth": 2
          },
          "yaxis": {
           "automargin": true,
           "gridcolor": "white",
           "linecolor": "white",
           "ticks": "",
           "title": {
            "standoff": 15
           },
           "zerolinecolor": "white",
           "zerolinewidth": 2
          }
         }
        },
        "width": 1400,
        "xaxis": {
         "anchor": "y",
         "domain": [
          0,
          1
         ],
         "title": {
          "text": "potencia"
         }
        },
        "yaxis": {
         "anchor": "x",
         "domain": [
          0,
          1
         ],
         "title": {
          "text": "preco"
         }
        }
       }
      }
     },
     "metadata": {},
     "output_type": "display_data"
    }
   ],
   "source": [
    "import plotly.express as px\n",
    "\n",
    "fig = px.scatter(\n",
    "    df_filtro,\n",
    "    x='potencia',\n",
    "    y='preco',\n",
    "    size='eficiencia',\n",
    "    color='eficiencia',\n",
    "    #symbol='fabricante',\n",
    "    hover_data=['fabricante', 'modelo'],)\n",
    "\n",
    "fig.update_layout(\n",
    "    width=1400,\n",
    "    height=700,\n",
    "    margin=dict(\n",
    "        l=5,\n",
    "        r=5,\n",
    "        b=5,\n",
    "        t=20,\n",
    "))\n",
    "\n",
    "fig.show()"
   ]
  }
 ],
 "metadata": {
  "kernelspec": {
   "display_name": "Python 3",
   "language": "python",
   "name": "python3"
  },
  "language_info": {
   "codemirror_mode": {
    "name": "ipython",
    "version": 3
   },
   "file_extension": ".py",
   "mimetype": "text/x-python",
   "name": "python",
   "nbconvert_exporter": "python",
   "pygments_lexer": "ipython3",
   "version": "3.12.7"
  }
 },
 "nbformat": 4,
 "nbformat_minor": 2
}
